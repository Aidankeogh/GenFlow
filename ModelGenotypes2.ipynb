{
 "cells": [
  {
   "cell_type": "markdown",
   "id": "ba120c77-389f-4165-9839-d029e14ca906",
   "metadata": {},
   "source": [
    "# Second Round of Genotype Modeling"
   ]
  },
  {
   "cell_type": "markdown",
   "id": "b8364fa4-44d0-4054-9c71-3ada86f0b762",
   "metadata": {},
   "source": [
    "This notebook follows 'ModelGenotypes.ipynb' to be a notebook for a second round of genotype modeling using alternative strategies to dimensionality reduce and model genotypes to phenotypes"
   ]
  },
  {
   "cell_type": "code",
   "execution_count": 11,
   "id": "1bd4cb64-06ca-4470-ad0a-58f088a7d424",
   "metadata": {},
   "outputs": [],
   "source": [
    "import sgkit as sg\n",
    "from sgkit.io import plink\n",
    "from sklearn.linear_model import ElasticNet\n",
    "from sklearn.linear_model import Lasso\n",
    "from sklearn.linear_model import MultiTaskElasticNetCV\n",
    "from sklearn.ensemble import GradientBoostingRegressor\n",
    "from sklearn.decomposition import PCA\n",
    "from sklearn.decomposition import KernelPCA\n",
    "from sklearn.model_selection import cross_validate\n",
    "from sklearn.metrics import mean_absolute_error\n",
    "from sklearn.metrics import mean_squared_error\n",
    "from sklearn.metrics import r2_score\n",
    "from sklearn.model_selection import train_test_split\n",
    "from sklearn.ensemble import RandomForestRegressor\n",
    "from sklearn.model_selection import GridSearchCV\n",
    "from joblib import Parallel, delayed\n",
    "import xgboost as xg\n",
    "import pandas as pd\n",
    "import numpy as np\n",
    "import math\n",
    "import dask\n",
    "import pickle\n",
    "import xarray as xr\n",
    "import umap.umap_ as UMAP"
   ]
  },
  {
   "cell_type": "markdown",
   "id": "ef4d5984-e70d-46ac-b81a-359e1a8bfb1b",
   "metadata": {},
   "source": [
    "## MUST RUN: Get Genotype Data To a Matrix"
   ]
  },
  {
   "cell_type": "code",
   "execution_count": 2,
   "id": "71b49b55-77e4-42fe-8193-a8767d7cb7cf",
   "metadata": {},
   "outputs": [
    {
     "data": {
      "text/plain": [
       "(13526, 96654)"
      ]
     },
     "execution_count": 2,
     "metadata": {},
     "output_type": "execute_result"
    }
   ],
   "source": [
    "ds = plink.read_plink(bed_path = 'ratgenes_pruned.bed', bim_path = 'ratgenes_pruned.bim', fam_path = 'ratgenes_pruned.fam')\n",
    "ds = ds.set_index({\"samples\": \"sample_id\"})\n",
    "ds = ds.set_index({\"variants\": \"variant_id\"})\n",
    "call_g_mask = ds[\"call_genotype_mask\"].any(dim = \"ploidy\")\n",
    "call_g = xr.where(call_g_mask, -1, ds[\"call_genotype\"].sum(dim = \"ploidy\"))\n",
    "genotypes_matrix = call_g.values\n",
    "genotypes_matrix = np.transpose(genotypes_matrix)\n",
    "genotypes_matrix.shape"
   ]
  },
  {
   "cell_type": "code",
   "execution_count": 3,
   "id": "82936c3c-b47c-44be-85bb-bbac376813e7",
   "metadata": {},
   "outputs": [
    {
     "name": "stdout",
     "output_type": "stream",
     "text": [
      "[[ 2  0  0 ...  2  2  2]\n",
      " [ 0  2  2 ...  1  1  1]\n",
      " [-1  1  1 ...  2  2  2]\n",
      " [ 1  1  1 ...  0  0  0]\n",
      " [-1  0  0 ...  2  2  2]]\n"
     ]
    }
   ],
   "source": [
    "print(genotypes_matrix[:5])"
   ]
  },
  {
   "cell_type": "markdown",
   "id": "cbec6fb6-4284-4ff4-aa44-3c75b09f3bd8",
   "metadata": {},
   "source": [
    "## MUST RUN: Load in loco phenotypes dataset"
   ]
  },
  {
   "cell_type": "code",
   "execution_count": 4,
   "id": "b86a6dbd-834a-4751-9538-8c569f7adf1f",
   "metadata": {},
   "outputs": [],
   "source": [
    "loco = pd.read_csv(\"pheno_loco_clean.txt\", sep = '\\t')"
   ]
  },
  {
   "cell_type": "markdown",
   "id": "1fe12588-b7b1-4508-9964-2ffa8befc7ca",
   "metadata": {},
   "source": [
    "## MUST RUN: Code for cleaning other phenotype data in 'phenotype_chunks'"
   ]
  },
  {
   "cell_type": "code",
   "execution_count": 5,
   "id": "b566a6f9-5227-43e1-a4a3-cc0fc5754ec5",
   "metadata": {},
   "outputs": [],
   "source": [
    "def clean_chunks(data):\n",
    "    \n",
    "    old = data\n",
    "    \n",
    "    new = data.set_index('rfid')\n",
    "    new = new.select_dtypes(['number'])\n",
    "    limit = math.floor(len(new) * 0.80)\n",
    "    new = new.dropna(axis=1, thresh=limit)\n",
    "    new = new.dropna(axis=0)\n",
    "    \n",
    "    return(new)"
   ]
  },
  {
   "cell_type": "markdown",
   "id": "891c9651-e726-4ba5-9beb-80f90f55dd2e",
   "metadata": {},
   "source": [
    "## MUST RUN: Code for dimensionality reducing"
   ]
  },
  {
   "cell_type": "code",
   "execution_count": 5,
   "id": "1ad48c6a-ae6d-4aeb-a3d5-5c93be0ad3a0",
   "metadata": {},
   "outputs": [],
   "source": [
    "def pca(mat, n_components):\n",
    "    \n",
    "    mat_reduced = PCA(n_components = n_components, svd_solver = 'randomized').fit_transform(mat)\n",
    "    return(mat_reduced)\n",
    "\n",
    "def kernel_pca(mat, n_components):\n",
    "    \n",
    "    mat_reduced = KernelPCA(n_components = n_components, kernel = 'rbf', eigen_solver = 'randomized').fit_transform(mat)\n",
    "    return(mat_reduced)\n",
    "\n",
    "def umap(mat, metric, n_components):\n",
    "    \n",
    "    mat_reduced = UMAP.UMAP(metric = metric, n_neighbors = 15, min_dist = 0.1, n_components = n_components).fit_transform(mat)\n",
    "    return(mat_reduced)"
   ]
  },
  {
   "cell_type": "markdown",
   "id": "05539809-74b3-4d24-9fc2-12b88b3e4d0f",
   "metadata": {},
   "source": [
    "## MUST RUN: Create matrix filtered by select 'loco' phenotypes"
   ]
  },
  {
   "cell_type": "code",
   "execution_count": 6,
   "id": "945aefc5-2928-4603-9343-fca814a159f6",
   "metadata": {},
   "outputs": [],
   "source": [
    "def get_rats_with_loco(genotypes_mat, phenotypes):\n",
    "\n",
    "    # Select only 'max' loco phenotypes\n",
    "    loco_select = ['rfid', 'loco_maxcent', 'loco_maxdis', 'loco_maxrear', 'loco_maxact']\n",
    "    pheno_select = phenotypes[loco_select].set_index('rfid')\n",
    "    rat_ids = ds[\"samples\"].values\n",
    "    genotypes_df = pd.DataFrame(data = genotypes_mat, index = rat_ids)\n",
    "    genotypes_df.index.name = 'rfid'\n",
    "    geno_with_pheno = pd.merge(genotypes_df, pheno_select, left_index=True, right_index=True)\n",
    "\n",
    "    # Split the geno_with_pheno into X and y datasets\n",
    "    phenos = ['loco_maxcent', 'loco_maxdis', 'loco_maxrear', 'loco_maxact']\n",
    "    y_pheno = geno_with_pheno[phenos]\n",
    "    y_pheno = y_pheno.to_numpy()\n",
    "    X_geno = geno_with_pheno.drop(columns = phenos)\n",
    "    X_geno = X_geno.to_numpy()\n",
    "    \n",
    "    return(X_geno, y_pheno)"
   ]
  },
  {
   "cell_type": "markdown",
   "id": "44a8b665-3c75-4d49-8723-4c35f72fa83a",
   "metadata": {},
   "source": [
    "## MUST RUN: Create matrix with all phenotypes mapped to rat"
   ]
  },
  {
   "cell_type": "code",
   "execution_count": 13,
   "id": "740e410a-6845-4751-8e35-af5b3962e927",
   "metadata": {},
   "outputs": [],
   "source": [
    "def get_rats_with_pheno(genotypes_mat, phenotypes):\n",
    "\n",
    "    rat_ids = ds[\"samples\"].values\n",
    "    genotypes_df = pd.DataFrame(data = genotypes_mat, index = rat_ids)\n",
    "    genotypes_df.index.name = 'rfid'\n",
    "    geno_with_pheno = pd.merge(genotypes_df, phenotypes, left_index=True, right_index=True)\n",
    "    y_pheno = geno_with_pheno[phenotypes.columns].to_numpy()\n",
    "    X_geno = geno_with_pheno.drop(columns = phenotypes.columns).to_numpy()\n",
    "    \n",
    "    return(X_geno, y_pheno)"
   ]
  },
  {
   "cell_type": "markdown",
   "id": "1352d8c2-73a8-466d-9433-5336bbedf17d",
   "metadata": {},
   "source": [
    "# (A) Explore Various Modeling"
   ]
  },
  {
   "cell_type": "markdown",
   "id": "6303260a-81cc-4c20-84dc-71138402503e",
   "metadata": {},
   "source": [
    "## Option 1: Train ElasticNet Model to Predict loco phenotypes"
   ]
  },
  {
   "cell_type": "code",
   "execution_count": 9,
   "id": "ebed52e4-47e5-4a18-b938-d13347b75c4a",
   "metadata": {},
   "outputs": [],
   "source": [
    "X_geno, y_pheno = get_rats_with_pheno(genotypes_matrix, loco)"
   ]
  },
  {
   "cell_type": "code",
   "execution_count": 10,
   "id": "67b4384c-eba6-45ac-84a6-9aade074fdda",
   "metadata": {},
   "outputs": [
    {
     "name": "stdout",
     "output_type": "stream",
     "text": [
      "[[-1 -1 -1 ...  0  0  0]\n",
      " [ 0  2  2 ...  0  0  0]\n",
      " [ 0  2  2 ...  2  2  2]\n",
      " [ 1  1  1 ...  0  0  0]\n",
      " [ 0  2  2 ...  2  2  2]]\n",
      "[[171.3 568.   19.  109. ]\n",
      " [115.4 697.   26.  135. ]\n",
      " [ 48.1 652.   20.  124. ]\n",
      " [147.1 466.   25.   97. ]\n",
      " [ 89.4 599.   22.   96. ]]\n"
     ]
    }
   ],
   "source": [
    "print(X_geno[:5])\n",
    "print(y_pheno[:5])"
   ]
  },
  {
   "cell_type": "code",
   "execution_count": 8,
   "id": "167eb01e-0df0-4c16-a1f2-b187dd9c37ef",
   "metadata": {},
   "outputs": [],
   "source": [
    "X_train, X_test, y_train, y_test = train_test_split(X_geno, y_pheno, test_size=0.20, random_state=42)"
   ]
  },
  {
   "cell_type": "code",
   "execution_count": 10,
   "id": "0d6ec078-cdc3-48a6-9d58-4f5d89171d83",
   "metadata": {},
   "outputs": [],
   "source": [
    "regr = ElasticNet(max_iter = 10000, random_state = 42).fit(X_train, y_train)"
   ]
  },
  {
   "cell_type": "code",
   "execution_count": 13,
   "id": "bd38b72b-693e-4db6-9fc4-450e6be48ea9",
   "metadata": {},
   "outputs": [
    {
     "name": "stdout",
     "output_type": "stream",
     "text": [
      "[[ 68.91334236 630.49018608  31.20997093  98.80398388]\n",
      " [ 65.59016069 726.37038284  31.68254412  92.42864566]\n",
      " [ 44.08774537 745.75065656  31.43889058  91.96772778]\n",
      " [119.9160312  617.96965894  31.59672354  94.65726659]\n",
      " [ 51.30986502 730.26400249  32.15657582  86.78766635]]\n",
      "[[ 87.23772221 700.29537406  31.81182426  88.40180429]\n",
      " [ 78.99918893 621.85176151  31.25046867  88.45242396]\n",
      " [ 70.27893374 624.14015041  31.50553736  86.76195827]\n",
      " [ 66.11747644 570.26462493  31.11727521  91.65692861]\n",
      " [ 71.00788591 541.16771272  31.474246    91.22443367]]\n"
     ]
    }
   ],
   "source": [
    "y_train_pred = regr.predict(X_train)\n",
    "print(y_train_pred[:5])\n",
    "\n",
    "y_test_pred = regr.predict(X_test)\n",
    "print(y_test_pred[:5])"
   ]
  },
  {
   "cell_type": "code",
   "execution_count": 14,
   "id": "c3f68c6c-91a2-43cb-8f63-1387b2bfb34a",
   "metadata": {},
   "outputs": [
    {
     "name": "stdout",
     "output_type": "stream",
     "text": [
      "MAE Train: [18.34300385 28.91180835  5.64786636 11.50847375]\n",
      "MAE Test: [34.21429027 85.35406017  5.42908778 14.28944104]\n",
      "MSE Train: [ 549.79810229 1361.81790317   51.15431517  213.69389581]\n",
      "MSE Test: [ 1845.9485962  11268.93340119    45.69795862   321.08439423]\n",
      "R2 Train: [0.64437101 0.87323639 0.02725899 0.41403722]\n",
      "R2 Test: [-0.02624217  0.01973684  0.00360182  0.05933711]\n"
     ]
    }
   ],
   "source": [
    "print(\"MAE Train:\", mean_absolute_error(y_train, y_train_pred, multioutput='raw_values'))\n",
    "print(\"MAE Test:\", mean_absolute_error(y_test, y_test_pred, multioutput='raw_values'))\n",
    "print(\"MSE Train:\", mean_squared_error(y_train, y_train_pred, multioutput='raw_values'))\n",
    "print(\"MSE Test:\", mean_squared_error(y_test, y_test_pred, multioutput='raw_values'))\n",
    "print(\"R2 Train:\", r2_score(y_train, y_train_pred, multioutput = 'raw_values'))\n",
    "print(\"R2 Test:\", r2_score(y_test, y_test_pred, multioutput = 'raw_values'))"
   ]
  },
  {
   "cell_type": "markdown",
   "id": "e7a85862-55b7-4a22-9f10-5a2ddb719105",
   "metadata": {},
   "source": [
    "## Option 2: Train an Iteratively Fitted ElasticNet Model"
   ]
  },
  {
   "cell_type": "code",
   "execution_count": 12,
   "id": "72997304-e402-4c77-a123-e177b52afe05",
   "metadata": {},
   "outputs": [],
   "source": [
    "X_geno, y_pheno = get_rats_with_pheno(genotypes_matrix, loco)"
   ]
  },
  {
   "cell_type": "code",
   "execution_count": 22,
   "id": "1803dfc5-e256-4753-a265-ab9ce1868456",
   "metadata": {},
   "outputs": [],
   "source": [
    "regr = MultiTaskElasticNetCV(max_iter = 10000, random_state = 42, n_jobs = -1).fit(X_geno, y_pheno)"
   ]
  },
  {
   "cell_type": "code",
   "execution_count": 23,
   "id": "ccecbbb7-7fb1-498c-8991-76863acf2648",
   "metadata": {},
   "outputs": [
    {
     "name": "stdout",
     "output_type": "stream",
     "text": [
      "0.26892481716522676\n"
     ]
    }
   ],
   "source": [
    "r2_elastic_net = regr.score(X_geno, y_pheno)\n",
    "print(r2_elastic_net)"
   ]
  },
  {
   "cell_type": "code",
   "execution_count": null,
   "id": "5b62f23f-ff3c-4b6d-ba8b-7d269ef66a06",
   "metadata": {},
   "outputs": [],
   "source": [
    "import pickle\n",
    "\n",
    "with open('elastic_net_cv.pkl', 'wb') as handle:\n",
    "    pickle.dump(regr, handle, protocol=pickle.HIGHEST_PROTOCOL)"
   ]
  },
  {
   "cell_type": "markdown",
   "id": "da5d909b-3287-4978-b329-bd7cbe5dff62",
   "metadata": {},
   "source": [
    "## Option 3: Train a Random Forest on PCA-UMAP Reduced Data"
   ]
  },
  {
   "cell_type": "code",
   "execution_count": 15,
   "id": "665bb7aa-caa4-4e05-a300-bc55a2103572",
   "metadata": {},
   "outputs": [],
   "source": [
    "geno_pca = pca(genotypes_matrix, 1000)\n",
    "geno_pca_umap = umap(geno_pca, 'euclidean', 50)"
   ]
  },
  {
   "cell_type": "code",
   "execution_count": 10,
   "id": "a9ff153a-4160-4018-9b31-44fcbfe06e64",
   "metadata": {},
   "outputs": [
    {
     "ename": "NameError",
     "evalue": "name 'geno_pca_umap' is not defined",
     "output_type": "error",
     "traceback": [
      "\u001b[0;31m---------------------------------------------------------------------------\u001b[0m",
      "\u001b[0;31mNameError\u001b[0m                                 Traceback (most recent call last)",
      "Input \u001b[0;32mIn [10]\u001b[0m, in \u001b[0;36m<cell line: 1>\u001b[0;34m()\u001b[0m\n\u001b[0;32m----> 1\u001b[0m X_geno, y_pheno \u001b[38;5;241m=\u001b[39m get_rats_with_pheno(\u001b[43mgeno_pca_umap\u001b[49m, loco)\n",
      "\u001b[0;31mNameError\u001b[0m: name 'geno_pca_umap' is not defined"
     ]
    }
   ],
   "source": [
    "X_geno, y_pheno = get_rats_with_pheno(geno_pca_umap, loco)"
   ]
  },
  {
   "cell_type": "code",
   "execution_count": 17,
   "id": "611f4bf2-19a6-4e0d-9b09-a428f2457904",
   "metadata": {},
   "outputs": [],
   "source": [
    "X_train, X_test, y_train, y_test = train_test_split(X_geno, y_pheno, test_size=0.20)"
   ]
  },
  {
   "cell_type": "code",
   "execution_count": 19,
   "id": "2af3b2b1-a3e3-408f-8d31-a37d3bf66915",
   "metadata": {},
   "outputs": [],
   "source": [
    "regr = RandomForestRegressor(n_jobs = -1).fit(X_train, y_train)"
   ]
  },
  {
   "cell_type": "code",
   "execution_count": 20,
   "id": "2eb8a0ba-afef-444f-8743-61718a0f5826",
   "metadata": {},
   "outputs": [],
   "source": [
    "y_train_pred = regr.predict(X_train)\n",
    "y_test_pred = regr.predict(X_test)"
   ]
  },
  {
   "cell_type": "code",
   "execution_count": 21,
   "id": "7faa557e-5eba-4150-bbd5-9a31c2115510",
   "metadata": {},
   "outputs": [
    {
     "name": "stdout",
     "output_type": "stream",
     "text": [
      "MAE Train: [12.62478881 32.89291447  2.34661563  6.10025343]\n",
      "MAE Test: [33.89938608 87.7542827   6.24656118 16.09829114]\n",
      "MSE Train: [ 262.54355881 1729.5806264     8.90637408   59.6576679 ]\n",
      "MSE Test: [ 1939.23188825 12692.24027152    65.8012116    420.06931667]\n",
      "R2 Train: [0.83848761 0.84162131 0.82183668 0.83300749]\n",
      "R2 Test: [-0.30513666 -0.17443088 -0.17378971 -0.13521851]\n"
     ]
    }
   ],
   "source": [
    "print(\"MAE Train:\", mean_absolute_error(y_train, y_train_pred, multioutput='raw_values'))\n",
    "print(\"MAE Test:\", mean_absolute_error(y_test, y_test_pred, multioutput='raw_values'))\n",
    "print(\"MSE Train:\", mean_squared_error(y_train, y_train_pred, multioutput='raw_values'))\n",
    "print(\"MSE Test:\", mean_squared_error(y_test, y_test_pred, multioutput='raw_values'))\n",
    "print(\"R2 Train:\", r2_score(y_train, y_train_pred, multioutput = 'raw_values'))\n",
    "print(\"R2 Test:\", r2_score(y_test, y_test_pred, multioutput = 'raw_values'))"
   ]
  },
  {
   "cell_type": "markdown",
   "id": "c197cbb1-2857-4c84-9d9a-91a6ad85e3bf",
   "metadata": {},
   "source": [
    "## Option 4: Train a Random Forest on Kernel PCA Reduced Data"
   ]
  },
  {
   "cell_type": "markdown",
   "id": "9c1b4813-53c0-43aa-9df2-36b1ea0d7012",
   "metadata": {},
   "source": [
    "(1) Option 4a: Run this option to reduce the data to 200 components"
   ]
  },
  {
   "cell_type": "code",
   "execution_count": 9,
   "id": "66c48928-22fc-4aa1-b396-bc1756b4bc7b",
   "metadata": {},
   "outputs": [],
   "source": [
    "geno_kernel_pca = kernel_pca(genotypes_matrix, 200)"
   ]
  },
  {
   "cell_type": "markdown",
   "id": "0b9c6cfc-249a-47a6-9a34-5d518d2baf84",
   "metadata": {},
   "source": [
    "(2) Option 4: Run this option to reduce the data to 50 components"
   ]
  },
  {
   "cell_type": "code",
   "execution_count": 16,
   "id": "320c95ea-2c78-4cd6-8518-d803103c41de",
   "metadata": {},
   "outputs": [],
   "source": [
    "geno_kernel_pca = kernel_pca(genotypes_matrix, 50)"
   ]
  },
  {
   "cell_type": "code",
   "execution_count": 17,
   "id": "3e841582-a939-4c01-87f2-c5b85d97890e",
   "metadata": {},
   "outputs": [],
   "source": [
    "X_geno, y_pheno = get_rats_with_pheno(geno_kernel_pca, loco)"
   ]
  },
  {
   "cell_type": "code",
   "execution_count": 18,
   "id": "80861a21-3b26-4482-b470-27e39d7b64a5",
   "metadata": {},
   "outputs": [],
   "source": [
    "X_train, X_test, y_train, y_test = train_test_split(X_geno, y_pheno, test_size=0.20)"
   ]
  },
  {
   "cell_type": "code",
   "execution_count": 19,
   "id": "8fdeaa1b-87ef-4375-916c-deb37ba128f7",
   "metadata": {},
   "outputs": [],
   "source": [
    "regr = RandomForestRegressor(n_jobs = -1).fit(X_train, y_train)"
   ]
  },
  {
   "cell_type": "code",
   "execution_count": 20,
   "id": "397df937-4793-4635-a7be-95ba7b35f92e",
   "metadata": {},
   "outputs": [],
   "source": [
    "y_train_pred = regr.predict(X_train)\n",
    "y_test_pred = regr.predict(X_test)"
   ]
  },
  {
   "cell_type": "code",
   "execution_count": 21,
   "id": "06544d4a-b62a-4fc5-acb0-7f950d08b9d0",
   "metadata": {},
   "outputs": [
    {
     "name": "stdout",
     "output_type": "stream",
     "text": [
      "MAE Train: [12.00054646 30.82662091  2.12474657  5.50981521]\n",
      "MAE Test: [31.63093249 80.4614557   5.63162447 15.57622363]\n",
      "MSE Train: [ 228.16589266 1527.51856389    7.22499319   48.59001283]\n",
      "MSE Test: [ 1580.78399427 11048.18630443    51.9247403    382.18868038]\n",
      "R2 Train: [0.85782444 0.85990043 0.85913318 0.86211041]\n",
      "R2 Test: [-0.00452131 -0.01842162 -0.01731643  0.02131085]\n"
     ]
    }
   ],
   "source": [
    "print(\"MAE Train:\", mean_absolute_error(y_train, y_train_pred, multioutput='raw_values'))\n",
    "print(\"MAE Test:\", mean_absolute_error(y_test, y_test_pred, multioutput='raw_values'))\n",
    "print(\"MSE Train:\", mean_squared_error(y_train, y_train_pred, multioutput='raw_values'))\n",
    "print(\"MSE Test:\", mean_squared_error(y_test, y_test_pred, multioutput='raw_values'))\n",
    "print(\"R2 Train:\", r2_score(y_train, y_train_pred, multioutput = 'raw_values'))\n",
    "print(\"R2 Test:\", r2_score(y_test, y_test_pred, multioutput = 'raw_values'))"
   ]
  },
  {
   "cell_type": "markdown",
   "id": "808d1af1-e233-4181-bfe2-09313e07fc69",
   "metadata": {},
   "source": [
    "# (B) Fresh Run: Explore how Increasing Regularization Penalty Impacts R2"
   ]
  },
  {
   "cell_type": "markdown",
   "id": "ef7715ab-e504-4e26-8b8b-6584dbbf17b2",
   "metadata": {},
   "source": [
    "## Option 1: Run ElasticNet and increase regularization constant with no dimensionality reduction"
   ]
  },
  {
   "cell_type": "code",
   "execution_count": 22,
   "id": "ff954f3a-910d-43b3-9acd-24ab6e8a9607",
   "metadata": {},
   "outputs": [],
   "source": [
    "X_geno, y_pheno = get_rats_with_pheno(genotypes_matrix, loco)"
   ]
  },
  {
   "cell_type": "code",
   "execution_count": 23,
   "id": "75b44087-35d3-4bea-92dd-c0a783e23f20",
   "metadata": {},
   "outputs": [],
   "source": [
    "X_train, X_test, y_train, y_test = train_test_split(X_geno, y_pheno, test_size=0.20)"
   ]
  },
  {
   "cell_type": "code",
   "execution_count": 1,
   "id": "222cb398-fcb5-40f9-ac54-bae90f0289ed",
   "metadata": {},
   "outputs": [],
   "source": [
    "def run_elastic_net(alpha, max_iter):\n",
    "    \n",
    "    regr = ElasticNet(alpha = alpha, max_iter = max_iter).fit(X_train, y_train)\n",
    "    y_train_pred = regr.predict(X_train)\n",
    "    y_test_pred = regr.predict(X_test)\n",
    "    train_r2 = r2_score(y_train, y_train_pred)\n",
    "    test_r2 = r2_score(y_test, y_test_pred)\n",
    "    \n",
    "    return([alpha, train_r2, test_r2])"
   ]
  },
  {
   "cell_type": "code",
   "execution_count": 27,
   "id": "709eaedb-5781-4df1-81b3-96e9e1eeadbb",
   "metadata": {},
   "outputs": [],
   "source": [
    "alphas = [1,5,10,25,50,100,500,1000,5000,10000]\n",
    "r2_results = Parallel(n_jobs=6)(delayed(run_elastic_net)(alpha) for alpha in alphas)"
   ]
  },
  {
   "cell_type": "code",
   "execution_count": 28,
   "id": "14fdf0c9-d7ae-4238-a5b9-5a087f5f3b53",
   "metadata": {},
   "outputs": [
    {
     "data": {
      "text/plain": [
       "[[1, 0.4914223822480703, -0.0070173237399553945],\n",
       " [5, 0.09575436986325817, 0.018744462857174682],\n",
       " [10, 0.02048135437029014, 0.0028678405044191],\n",
       " [25, 3.3306690738754696e-16, -0.0030070988515400465],\n",
       " [50, 3.3306690738754696e-16, -0.0030070988515400465],\n",
       " [100, 3.3306690738754696e-16, -0.0030070988515400465],\n",
       " [500, 3.3306690738754696e-16, -0.0030070988515400465],\n",
       " [1000, 3.3306690738754696e-16, -0.0030070988515400465],\n",
       " [5000, 3.3306690738754696e-16, -0.0030070988515400465],\n",
       " [10000, 3.3306690738754696e-16, -0.0030070988515400465]]"
      ]
     },
     "execution_count": 28,
     "metadata": {},
     "output_type": "execute_result"
    }
   ],
   "source": [
    "r2_results"
   ]
  },
  {
   "cell_type": "code",
   "execution_count": 29,
   "id": "2dc457ce-893e-4299-8f1a-0f86effb86f2",
   "metadata": {},
   "outputs": [
    {
     "name": "stderr",
     "output_type": "stream",
     "text": [
      "/Users/zacharywallace/anaconda3/lib/python3.8/site-packages/sklearn/linear_model/_coordinate_descent.py:647: ConvergenceWarning: Objective did not converge. You might want to increase the number of iterations, check the scale of the features or consider increasing regularisation. Duality gap: 1.682e+04, tolerance: 2.024e+03\n",
      "  model = cd_fast.enet_coordinate_descent(\n",
      "/Users/zacharywallace/anaconda3/lib/python3.8/site-packages/sklearn/linear_model/_coordinate_descent.py:647: ConvergenceWarning: Objective did not converge. You might want to increase the number of iterations, check the scale of the features or consider increasing regularisation. Duality gap: 1.828e+04, tolerance: 3.088e+02\n",
      "  model = cd_fast.enet_coordinate_descent(\n",
      "/Users/zacharywallace/anaconda3/lib/python3.8/site-packages/sklearn/linear_model/_coordinate_descent.py:647: ConvergenceWarning: Objective did not converge. You might want to increase the number of iterations, check the scale of the features or consider increasing regularisation. Duality gap: 1.393e+05, tolerance: 2.024e+03\n",
      "  model = cd_fast.enet_coordinate_descent(\n",
      "/Users/zacharywallace/anaconda3/lib/python3.8/site-packages/sklearn/linear_model/_coordinate_descent.py:647: ConvergenceWarning: Objective did not converge. You might want to increase the number of iterations, check the scale of the features or consider increasing regularisation. Duality gap: 5.567e+03, tolerance: 3.088e+02\n",
      "  model = cd_fast.enet_coordinate_descent(\n",
      "/Users/zacharywallace/anaconda3/lib/python3.8/site-packages/sklearn/linear_model/_coordinate_descent.py:647: ConvergenceWarning: Objective did not converge. You might want to increase the number of iterations, check the scale of the features or consider increasing regularisation. Duality gap: 3.318e+04, tolerance: 2.024e+03\n",
      "  model = cd_fast.enet_coordinate_descent(\n",
      "/Users/zacharywallace/anaconda3/lib/python3.8/site-packages/sklearn/linear_model/_coordinate_descent.py:647: ConvergenceWarning: Objective did not converge. You might want to increase the number of iterations, check the scale of the features or consider increasing regularisation. Duality gap: 8.416e+01, tolerance: 9.687e+00\n",
      "  model = cd_fast.enet_coordinate_descent(\n",
      "/Users/zacharywallace/anaconda3/lib/python3.8/site-packages/sklearn/linear_model/_coordinate_descent.py:647: ConvergenceWarning: Objective did not converge. You might want to increase the number of iterations, check the scale of the features or consider increasing regularisation. Duality gap: 6.642e+02, tolerance: 6.882e+01\n",
      "  model = cd_fast.enet_coordinate_descent(\n",
      "/Users/zacharywallace/anaconda3/lib/python3.8/site-packages/sklearn/linear_model/_coordinate_descent.py:647: ConvergenceWarning: Objective did not converge. You might want to increase the number of iterations, check the scale of the features or consider increasing regularisation. Duality gap: 2.129e+03, tolerance: 3.088e+02\n",
      "  model = cd_fast.enet_coordinate_descent(\n",
      "/Users/zacharywallace/anaconda3/lib/python3.8/site-packages/sklearn/linear_model/_coordinate_descent.py:647: ConvergenceWarning: Objective did not converge. You might want to increase the number of iterations, check the scale of the features or consider increasing regularisation. Duality gap: 9.539e+03, tolerance: 2.024e+03\n",
      "  model = cd_fast.enet_coordinate_descent(\n",
      "/Users/zacharywallace/anaconda3/lib/python3.8/site-packages/sklearn/linear_model/_coordinate_descent.py:647: ConvergenceWarning: Objective did not converge. You might want to increase the number of iterations, check the scale of the features or consider increasing regularisation. Duality gap: 1.096e+02, tolerance: 9.687e+00\n",
      "  model = cd_fast.enet_coordinate_descent(\n",
      "/Users/zacharywallace/anaconda3/lib/python3.8/site-packages/sklearn/linear_model/_coordinate_descent.py:647: ConvergenceWarning: Objective did not converge. You might want to increase the number of iterations, check the scale of the features or consider increasing regularisation. Duality gap: 6.460e+02, tolerance: 6.882e+01\n",
      "  model = cd_fast.enet_coordinate_descent(\n",
      "/Users/zacharywallace/anaconda3/lib/python3.8/site-packages/sklearn/linear_model/_coordinate_descent.py:647: ConvergenceWarning: Objective did not converge. You might want to increase the number of iterations, check the scale of the features or consider increasing regularisation. Duality gap: 6.773e+02, tolerance: 3.088e+02\n",
      "  model = cd_fast.enet_coordinate_descent(\n",
      "/Users/zacharywallace/anaconda3/lib/python3.8/site-packages/sklearn/linear_model/_coordinate_descent.py:647: ConvergenceWarning: Objective did not converge. You might want to increase the number of iterations, check the scale of the features or consider increasing regularisation. Duality gap: 2.873e+03, tolerance: 2.024e+03\n",
      "  model = cd_fast.enet_coordinate_descent(\n",
      "/Users/zacharywallace/anaconda3/lib/python3.8/site-packages/sklearn/linear_model/_coordinate_descent.py:647: ConvergenceWarning: Objective did not converge. You might want to increase the number of iterations, check the scale of the features or consider increasing regularisation. Duality gap: 4.531e+01, tolerance: 9.687e+00\n",
      "  model = cd_fast.enet_coordinate_descent(\n",
      "/Users/zacharywallace/anaconda3/lib/python3.8/site-packages/sklearn/linear_model/_coordinate_descent.py:647: ConvergenceWarning: Objective did not converge. You might want to increase the number of iterations, check the scale of the features or consider increasing regularisation. Duality gap: 2.066e+02, tolerance: 6.882e+01\n",
      "  model = cd_fast.enet_coordinate_descent(\n"
     ]
    }
   ],
   "source": [
    "alphas = [0.0001, 0.001, 0.01, 0.1, 0.5]\n",
    "r2_results_2 = Parallel(n_jobs=6)(delayed(run_elastic_net)(alpha) for alpha in alphas)"
   ]
  },
  {
   "cell_type": "code",
   "execution_count": 30,
   "id": "930cf262-1765-465e-8774-60f0d063fd8d",
   "metadata": {},
   "outputs": [
    {
     "data": {
      "text/plain": [
       "[[0.0001, 0.9999999232238274, -0.33891468499919797],\n",
       " [0.001, 0.9999944966429852, -0.4110740755261058],\n",
       " [0.01, 0.9994333925032699, -0.42227117359221955],\n",
       " [0.1, 0.9608699845523099, -0.26559118800478687],\n",
       " [0.5, 0.6963286803988944, -0.06429047960989878]]"
      ]
     },
     "execution_count": 30,
     "metadata": {},
     "output_type": "execute_result"
    }
   ],
   "source": [
    "r2_results_2"
   ]
  },
  {
   "cell_type": "markdown",
   "id": "bf5a0002-7ce1-49ed-9cd4-158479e7470a",
   "metadata": {},
   "source": [
    "## Option 2: Run ElasticNet and increase regularization constant with PCA reduced data"
   ]
  },
  {
   "cell_type": "code",
   "execution_count": 8,
   "id": "e77a2d28-0d4e-4f50-9e14-cb0851f7b1bb",
   "metadata": {},
   "outputs": [],
   "source": [
    "geno_pca = pca(genotypes_matrix, 250)"
   ]
  },
  {
   "cell_type": "code",
   "execution_count": 10,
   "id": "11248dc6-a76b-4629-a947-c3c7ea8f9c8d",
   "metadata": {},
   "outputs": [],
   "source": [
    "X_geno, y_pheno = get_rats_with_pheno(geno_pca, loco)"
   ]
  },
  {
   "cell_type": "code",
   "execution_count": 11,
   "id": "619f0195-6fb7-4e5d-a577-0af3c2f61c2e",
   "metadata": {},
   "outputs": [],
   "source": [
    "X_train, X_test, y_train, y_test = train_test_split(X_geno, y_pheno, test_size=0.20)"
   ]
  },
  {
   "cell_type": "code",
   "execution_count": 12,
   "id": "32ad817c-b85c-4335-b26a-e8f14c6619ec",
   "metadata": {},
   "outputs": [],
   "source": [
    "regr = ElasticNet(max_iter = 10000).fit(X_train, y_train)"
   ]
  },
  {
   "cell_type": "code",
   "execution_count": 13,
   "id": "b8af266e-65e0-4a77-8a22-29563e15781d",
   "metadata": {},
   "outputs": [],
   "source": [
    "y_train_pred = regr.predict(X_train)\n",
    "y_test_pred = regr.predict(X_test)"
   ]
  },
  {
   "cell_type": "code",
   "execution_count": 14,
   "id": "a973a6d9-6151-4029-9971-a2324d869b64",
   "metadata": {},
   "outputs": [
    {
     "name": "stdout",
     "output_type": "stream",
     "text": [
      "MAE Train: [28.88397036 71.78981506  5.1589985  13.53580593]\n",
      "MAE Test: [32.76196602 81.94933482  5.85214246 15.29594792]\n",
      "MSE Train: [1349.18952229 8249.37650833   42.73596514  288.04065404]\n",
      "MSE Test: [ 1682.97367317 10573.10515355    54.20662814   357.00263254]\n",
      "R2 Train: [0.16652692 0.25646848 0.16668766 0.20818652]\n",
      "R2 Test: [-0.10869699 -0.04657238 -0.06139253 -0.03877653]\n"
     ]
    }
   ],
   "source": [
    "print(\"MAE Train:\", mean_absolute_error(y_train, y_train_pred, multioutput='raw_values'))\n",
    "print(\"MAE Test:\", mean_absolute_error(y_test, y_test_pred, multioutput='raw_values'))\n",
    "print(\"MSE Train:\", mean_squared_error(y_train, y_train_pred, multioutput='raw_values'))\n",
    "print(\"MSE Test:\", mean_squared_error(y_test, y_test_pred, multioutput='raw_values'))\n",
    "print(\"R2 Train:\", r2_score(y_train, y_train_pred, multioutput = 'raw_values'))\n",
    "print(\"R2 Test:\", r2_score(y_test, y_test_pred, multioutput = 'raw_values'))"
   ]
  },
  {
   "cell_type": "markdown",
   "id": "ea30ac9e-4fd4-4b89-a615-96021e015c02",
   "metadata": {},
   "source": [
    "# (C) Fresh Run: Explore XGBoost Models and Hyperparameter Tuning"
   ]
  },
  {
   "cell_type": "markdown",
   "id": "a9864d7c-cd77-46e1-b5ac-ad48abe2f866",
   "metadata": {},
   "source": [
    "### XGBoost with Train and Test"
   ]
  },
  {
   "cell_type": "code",
   "execution_count": 8,
   "id": "ff045982-c409-454b-b000-42263b617711",
   "metadata": {},
   "outputs": [],
   "source": [
    "X_geno, y_pheno = get_rats_with_pheno(genotypes_matrix, loco)\n",
    "X_train, X_test, y_train, y_test = train_test_split(X_geno, y_pheno, test_size=0.20)"
   ]
  },
  {
   "cell_type": "code",
   "execution_count": 10,
   "id": "6406e19c-87e0-4465-bfaf-aadc7a0ee063",
   "metadata": {},
   "outputs": [],
   "source": [
    "xgb = xg.XGBRegressor(objective ='reg:squarederror', n_jobs = -1).fit(X_train, y_train)"
   ]
  },
  {
   "cell_type": "code",
   "execution_count": 11,
   "id": "adbc3d04-6f67-4e65-83e0-90480279c80c",
   "metadata": {},
   "outputs": [],
   "source": [
    "y_train_pred = xgb.predict(X_train)\n",
    "y_test_pred = xgb.predict(X_test)"
   ]
  },
  {
   "cell_type": "code",
   "execution_count": 12,
   "id": "e0b1fb39-c6ba-411d-b31a-9fd91d76de94",
   "metadata": {},
   "outputs": [
    {
     "name": "stdout",
     "output_type": "stream",
     "text": [
      "MAE Train: [0.34063275 0.85358095 0.06780265 0.11579345]\n",
      "MAE Test: [32.88587865 83.0938272   5.65949354 13.383994  ]\n",
      "MSE Train: [0.19540265 1.23943147 0.00775575 0.02240661]\n",
      "MSE Test: [ 1788.76525076 11173.60214298    51.46274191   295.41478995]\n",
      "R2 Train: [0.99987866 0.99988753 0.99984864 0.99993845]\n",
      "R2 Test: [-0.15385686 -0.07344891 -0.00963227  0.13658915]\n"
     ]
    }
   ],
   "source": [
    "print(\"MAE Train:\", mean_absolute_error(y_train, y_train_pred, multioutput='raw_values'))\n",
    "print(\"MAE Test:\", mean_absolute_error(y_test, y_test_pred, multioutput='raw_values'))\n",
    "print(\"MSE Train:\", mean_squared_error(y_train, y_train_pred, multioutput='raw_values'))\n",
    "print(\"MSE Test:\", mean_squared_error(y_test, y_test_pred, multioutput='raw_values'))\n",
    "print(\"R2 Train:\", r2_score(y_train, y_train_pred, multioutput = 'raw_values'))\n",
    "print(\"R2 Test:\", r2_score(y_test, y_test_pred, multioutput = 'raw_values'))"
   ]
  },
  {
   "cell_type": "markdown",
   "id": "ba84a010-089b-478d-9278-f26c3523710f",
   "metadata": {},
   "source": [
    "### XGBoost with Hyperparameter Tuning"
   ]
  },
  {
   "cell_type": "code",
   "execution_count": 7,
   "id": "11d3db58-2ce5-4a68-aa43-4c833000e0f1",
   "metadata": {},
   "outputs": [],
   "source": [
    "X_geno, y_pheno = get_rats_with_pheno(genotypes_matrix, loco)\n",
    "X_train, X_test, y_train, y_test = train_test_split(X_geno, y_pheno, test_size=0.20)"
   ]
  },
  {
   "cell_type": "code",
   "execution_count": 8,
   "id": "822127ff-bff6-44ce-8dc7-6d9b1c146124",
   "metadata": {},
   "outputs": [],
   "source": [
    "xgb = xg.XGBRegressor(objective ='reg:squarederror', learning_rate = 0.9, \n",
    "                      gamma = 5, max_depth = 3, min_child_weight = 5,\n",
    "                      max_delta_step = 5, subsample = 0.5, alpha = 1, n_jobs = -1).fit(X_train, y_train)"
   ]
  },
  {
   "cell_type": "code",
   "execution_count": 9,
   "id": "3636bb85-d83c-4e47-8f50-40f131b1870b",
   "metadata": {},
   "outputs": [],
   "source": [
    "y_train_pred = xgb.predict(X_train)\n",
    "y_test_pred = xgb.predict(X_test)"
   ]
  },
  {
   "cell_type": "code",
   "execution_count": 10,
   "id": "06c28e64-e01e-46ce-986f-95c2f1170001",
   "metadata": {},
   "outputs": [
    {
     "name": "stdout",
     "output_type": "stream",
     "text": [
      "MAE Train: [ 12.38717595 181.48627244   2.48416701   6.10341074]\n",
      "MAE Test: [ 39.58997843 178.29113924  11.18331334  22.13462368]\n",
      "MSE Train: [2.44697732e+02 4.28240620e+04 1.02102563e+01 6.02859201e+01]\n",
      "MSE Test: [ 2536.5507155  41311.81962025   213.32248495   775.08009693]\n",
      "R2 Train: [ 0.84807931 -2.92176957  0.7991296   0.83176127]\n",
      "R2 Test: [-0.63635216 -2.82553932 -3.05566817 -1.12430351]\n"
     ]
    }
   ],
   "source": [
    "print(\"MAE Train:\", mean_absolute_error(y_train, y_train_pred, multioutput='raw_values'))\n",
    "print(\"MAE Test:\", mean_absolute_error(y_test, y_test_pred, multioutput='raw_values'))\n",
    "print(\"MSE Train:\", mean_squared_error(y_train, y_train_pred, multioutput='raw_values'))\n",
    "print(\"MSE Test:\", mean_squared_error(y_test, y_test_pred, multioutput='raw_values'))\n",
    "print(\"R2 Train:\", r2_score(y_train, y_train_pred, multioutput = 'raw_values'))\n",
    "print(\"R2 Test:\", r2_score(y_test, y_test_pred, multioutput = 'raw_values'))"
   ]
  },
  {
   "cell_type": "markdown",
   "id": "1ffa6232-0bf4-4136-bc12-7829c3349f11",
   "metadata": {},
   "source": [
    "### XGBoost with Kernel PCA"
   ]
  },
  {
   "cell_type": "code",
   "execution_count": 11,
   "id": "54697a1b-33dc-496a-819e-be6e071636a1",
   "metadata": {},
   "outputs": [],
   "source": [
    "geno_kernel_pca = kernel_pca(genotypes_matrix, 200)\n",
    "X_geno, y_pheno = get_rats_with_pheno(geno_kernel_pca, loco)\n",
    "X_train, X_test, y_train, y_test = train_test_split(X_geno, y_pheno, test_size=0.20)"
   ]
  },
  {
   "cell_type": "code",
   "execution_count": 14,
   "id": "a45872e3-1a92-47ac-8632-a6bbe48faa34",
   "metadata": {},
   "outputs": [],
   "source": [
    "xgb = xg.XGBRegressor(objective ='reg:squarederror', gamma = 1, subsample = 0.5, n_jobs = -1).fit(X_train, y_train)"
   ]
  },
  {
   "cell_type": "code",
   "execution_count": 15,
   "id": "81a82ab5-c133-48a4-81f1-5dfa102d3669",
   "metadata": {},
   "outputs": [
    {
     "name": "stdout",
     "output_type": "stream",
     "text": [
      "MAE Train: [ 43.19219441 180.70644139   8.16242726  21.70892581]\n",
      "MAE Test: [ 43.11663924 181.407173    11.37378759  24.3865633 ]\n",
      "MSE Train: [ 3049.30611324 42398.0905491    104.77899986   760.40848246]\n",
      "MSE Test: [ 2934.72997901 43013.90822785   203.49648531   940.64477299]\n",
      "R2 Train: [-0.96927983 -2.91957579 -1.01751955 -1.16337226]\n",
      "R2 Test: [-0.63329804 -2.83337017 -3.20721569 -1.39190128]\n"
     ]
    }
   ],
   "source": [
    "print(\"MAE Train:\", mean_absolute_error(y_train, y_train_pred, multioutput='raw_values'))\n",
    "print(\"MAE Test:\", mean_absolute_error(y_test, y_test_pred, multioutput='raw_values'))\n",
    "print(\"MSE Train:\", mean_squared_error(y_train, y_train_pred, multioutput='raw_values'))\n",
    "print(\"MSE Test:\", mean_squared_error(y_test, y_test_pred, multioutput='raw_values'))\n",
    "print(\"R2 Train:\", r2_score(y_train, y_train_pred, multioutput = 'raw_values'))\n",
    "print(\"R2 Test:\", r2_score(y_test, y_test_pred, multioutput = 'raw_values'))"
   ]
  },
  {
   "cell_type": "markdown",
   "id": "78244f4a-1e23-4883-bd61-94947a8fa9b6",
   "metadata": {},
   "source": [
    "# (D) Model Other Phenotypes"
   ]
  },
  {
   "cell_type": "markdown",
   "id": "e279aa93-bcef-4fa6-ae4f-961a17f63ac7",
   "metadata": {},
   "source": [
    "### Chunk 1"
   ]
  },
  {
   "cell_type": "code",
   "execution_count": 14,
   "id": "bac32f68-9e1b-4ed4-95d3-dfd97d129f93",
   "metadata": {},
   "outputs": [
    {
     "name": "stdout",
     "output_type": "stream",
     "text": [
      "(2296, 96654)\n",
      "(2296, 219)\n"
     ]
    }
   ],
   "source": [
    "chunk1 = pd.read_csv(\"phenotype_chunks/pheno_chunk1.txt\", sep = '\\t')\n",
    "chunk1 = clean_chunks(chunk1)\n",
    "X_geno, y_pheno = get_rats_with_pheno(genotypes_matrix, chunk1)\n",
    "print(X_geno.shape)\n",
    "print(y_pheno.shape)"
   ]
  },
  {
   "cell_type": "code",
   "execution_count": 17,
   "id": "3e406ff4-886b-4225-b922-5d8c7574cc96",
   "metadata": {},
   "outputs": [],
   "source": [
    "X_train, X_test, y_train, y_test = train_test_split(X_geno, y_pheno, test_size=0.20)"
   ]
  },
  {
   "cell_type": "code",
   "execution_count": null,
   "id": "ee11d1b5-74d4-4f47-bff5-e93cb25593af",
   "metadata": {},
   "outputs": [],
   "source": [
    "xgb = xg.XGBRegressor(objective ='reg:squarederror', subsample = 0.5, n_jobs = -1).fit(X_train, y_train)"
   ]
  },
  {
   "cell_type": "code",
   "execution_count": null,
   "id": "083414b2-af31-449d-a5ba-95e714de6562",
   "metadata": {},
   "outputs": [],
   "source": []
  }
 ],
 "metadata": {
  "kernelspec": {
   "display_name": "Python 3 (ipykernel)",
   "language": "python",
   "name": "python3"
  },
  "language_info": {
   "codemirror_mode": {
    "name": "ipython",
    "version": 3
   },
   "file_extension": ".py",
   "mimetype": "text/x-python",
   "name": "python",
   "nbconvert_exporter": "python",
   "pygments_lexer": "ipython3",
   "version": "3.8.2"
  }
 },
 "nbformat": 4,
 "nbformat_minor": 5
}
