{
 "cells": [
  {
   "cell_type": "markdown",
   "id": "90c4c7e8-71b1-4218-84fe-26c6707a49e0",
   "metadata": {},
   "source": [
    "### Utils"
   ]
  },
  {
   "cell_type": "code",
   "execution_count": 1,
   "id": "76080d79-6a00-43e6-b701-09db9f49070e",
   "metadata": {},
   "outputs": [],
   "source": [
    "import json\n",
    "import mlflow\n",
    "import os\n",
    "\n",
    "def pretty_print(d):\n",
    "    print(f'=======\\n{json.dumps(d, sort_keys=True, indent=4)}\\n======')\n",
    "\n",
    "home_dir = os.path.expanduser('~')\n",
    "mlflow_dir = os.path.join(home_dir, 'git', 'rattaca', 'app', 'flask', 'mlruns')\n",
    "mlflow.set_tracking_uri(f'file://{mlflow_dir}')\n",
    "# print(mlflow.get_tracking_uri())\n",
    "\n",
    "create_expiriments = False\n",
    "if create_expiriments:\n",
    "    iris_exp = mlflow.create_experiment(\"iris\")\n",
    "    housing_exp = mlflow.create_experiment(\"experiment1\")"
   ]
  },
  {
   "cell_type": "markdown",
   "id": "e7dbabd3-5e54-4466-b499-1203d3c61da3",
   "metadata": {},
   "source": [
    "### Classifier Example"
   ]
  },
  {
   "cell_type": "code",
   "execution_count": 2,
   "id": "30f2e153-1b00-48a5-8cba-0e3a02bb34c6",
   "metadata": {},
   "outputs": [
    {
     "name": "stdout",
     "output_type": "stream",
     "text": [
      "/Users/leonardoclo/git/rattaca/app/flask/mlruns\n"
     ]
    },
    {
     "ename": "NameError",
     "evalue": "name 'iris_exp' is not defined",
     "output_type": "error",
     "traceback": [
      "\u001b[0;31m---------------------------------------------------------------------------\u001b[0m",
      "\u001b[0;31mNameError\u001b[0m                                 Traceback (most recent call last)",
      "\u001b[0;32m<ipython-input-2-207dbc6c31f8>\u001b[0m in \u001b[0;36m<module>\u001b[0;34m\u001b[0m\n\u001b[1;32m     25\u001b[0m \u001b[0;34m\u001b[0m\u001b[0m\n\u001b[1;32m     26\u001b[0m \u001b[0mrun_name\u001b[0m \u001b[0;34m=\u001b[0m \u001b[0;34m'iris_experiment_run'\u001b[0m\u001b[0;34m\u001b[0m\u001b[0;34m\u001b[0m\u001b[0m\n\u001b[0;32m---> 27\u001b[0;31m \u001b[0;32mwith\u001b[0m \u001b[0mmlflow\u001b[0m\u001b[0;34m.\u001b[0m\u001b[0mstart_run\u001b[0m\u001b[0;34m(\u001b[0m\u001b[0mrun_name\u001b[0m\u001b[0;34m=\u001b[0m\u001b[0mrun_name\u001b[0m\u001b[0;34m,\u001b[0m \u001b[0mdescription\u001b[0m\u001b[0;34m=\u001b[0m\u001b[0;34m'iris sample'\u001b[0m\u001b[0;34m,\u001b[0m \u001b[0mexperiment_id\u001b[0m\u001b[0;34m=\u001b[0m\u001b[0miris_exp\u001b[0m\u001b[0;34m)\u001b[0m\u001b[0;34m:\u001b[0m\u001b[0;34m\u001b[0m\u001b[0;34m\u001b[0m\u001b[0m\n\u001b[0m\u001b[1;32m     28\u001b[0m \u001b[0;34m\u001b[0m\u001b[0m\n\u001b[1;32m     29\u001b[0m     \u001b[0mmlflow\u001b[0m\u001b[0;34m.\u001b[0m\u001b[0msklearn\u001b[0m\u001b[0;34m.\u001b[0m\u001b[0mlog_model\u001b[0m\u001b[0;34m(\u001b[0m\u001b[0mrf\u001b[0m\u001b[0;34m,\u001b[0m \u001b[0;34m'iris_model'\u001b[0m\u001b[0;34m)\u001b[0m\u001b[0;34m\u001b[0m\u001b[0;34m\u001b[0m\u001b[0m\n",
      "\u001b[0;31mNameError\u001b[0m: name 'iris_exp' is not defined"
     ]
    }
   ],
   "source": [
    "import pandas as pd\n",
    "from sklearn.datasets import load_iris\n",
    "from sklearn.ensemble import RandomForestClassifier\n",
    "from sklearn.metrics import accuracy_score\n",
    "from sklearn.model_selection import train_test_split\n",
    "\n",
    "\n",
    "print(mlflow_dir)\n",
    "iris = load_iris()\n",
    "df = pd.DataFrame(data=iris.data, columns=iris.feature_names)\n",
    "df['target'] = iris.target\n",
    "df.to_csv('iris_data.csv')\n",
    "\n",
    "X_train, X_test, y_train, y_test = train_test_split(df[iris.feature_names], iris.target, test_size=0.2, random_state=42)\n",
    "\n",
    "\n",
    "rf = RandomForestClassifier(n_estimators=100, random_state=42)\n",
    "rf.fit(X_train, y_train)\n",
    "\n",
    "y_pred = rf.predict(X_test)\n",
    "accuracy = accuracy_score(y_test, y_pred)\n",
    "\n",
    "eval_data = X_test\n",
    "eval_data['label'] = y_test\n",
    "\n",
    "run_name = 'iris_experiment_run'\n",
    "with mlflow.start_run(run_name=run_name, description='iris sample', experiment_id=iris_exp):\n",
    "\n",
    "    mlflow.sklearn.log_model(rf, 'iris_model')\n",
    "    model_uri = mlflow.get_artifact_uri('iris_model')\n",
    "    \n",
    "    mlflow.log_params(rf.get_params())\n",
    "    \n",
    "    result = mlflow.evaluate(\n",
    "        model_uri,\n",
    "        eval_data,\n",
    "        targets=\"label\",\n",
    "        model_type=\"classifier\",\n",
    "        evaluators=[\"default\"],\n",
    "    )\n",
    "pretty_print(result.metrics)\n"
   ]
  },
  {
   "cell_type": "code",
   "execution_count": null,
   "id": "c4af074a-0f84-4424-9d43-f449c1d638a4",
   "metadata": {},
   "outputs": [],
   "source": [
    "print(mlflow.get_tracking_uri())"
   ]
  },
  {
   "cell_type": "markdown",
   "id": "47548780-0407-4b58-b864-dfea0eb05eb3",
   "metadata": {},
   "source": [
    "### Regresion example (With custom metrics)"
   ]
  },
  {
   "cell_type": "code",
   "execution_count": null,
   "id": "9114e0d8-9283-430a-a9cf-b84b7a45cf55",
   "metadata": {},
   "outputs": [],
   "source": [
    "from sklearn.linear_model import LinearRegression\n",
    "from sklearn.datasets import fetch_california_housing\n",
    "from sklearn.model_selection import train_test_split\n",
    "import numpy as np\n",
    "import mlflow\n",
    "from mlflow.models import make_metric\n",
    "import os\n",
    "import matplotlib.pyplot as plt\n",
    "\n",
    "# loading the California housing dataset\n",
    "cali_housing = fetch_california_housing(as_frame=True)\n",
    "df = pd.DataFrame(data=cali_housing.data, columns=cali_housing.feature_names)\n",
    "df['target'] = cali_housing.target\n",
    "df.to_csv('cali_housing.csv')\n",
    "\n",
    "# split the dataset into train and test partitions\n",
    "X_train, X_test, y_train, y_test = train_test_split(\n",
    "    cali_housing.data, cali_housing.target, test_size=0.2, random_state=123\n",
    ")\n",
    "\n",
    "# train the model\n",
    "lin_reg = LinearRegression().fit(X_train, y_train)\n",
    "\n",
    "# creating the evaluation dataframe\n",
    "eval_data = X_test.copy()\n",
    "eval_data[\"target\"] = y_test\n",
    "\n",
    "\n",
    "def squared_diff_plus_one(eval_df, _builtin_metrics):\n",
    "    \"\"\"\n",
    "    This example custom metric function creates a metric based on the ``prediction`` and\n",
    "    ``target`` columns in ``eval_df`.\n",
    "    \"\"\"\n",
    "    return np.sum(np.abs(eval_df[\"prediction\"] - eval_df[\"target\"] + 1) ** 2)\n",
    "\n",
    "\n",
    "def sum_on_target_divided_by_two(_eval_df, builtin_metrics):\n",
    "    \"\"\"\n",
    "    This example custom metric function creates a metric derived from existing metrics in\n",
    "    ``builtin_metrics``.\n",
    "    \"\"\"\n",
    "    return builtin_metrics[\"sum_on_target\"] / 2\n",
    "\n",
    "\n",
    "def prediction_target_scatter(eval_df, _builtin_metrics, artifacts_dir):\n",
    "    \"\"\"\n",
    "    This example custom artifact generates and saves a scatter plot to ``artifacts_dir`` that\n",
    "    visualizes the relationship between the predictions and targets for the given model to a\n",
    "    file as an image artifact.\n",
    "    \"\"\"\n",
    "    plt.scatter(eval_df[\"prediction\"], eval_df[\"target\"])\n",
    "    plt.xlabel(\"Targets\")\n",
    "    plt.ylabel(\"Predictions\")\n",
    "    plt.title(\"Targets vs. Predictions\")\n",
    "    plot_path = os.path.join(artifacts_dir, \"example_scatter_plot.png\")\n",
    "    plt.savefig(plot_path)\n",
    "    return {\"example_scatter_plot_artifact\": plot_path}\n",
    "\n",
    "\n",
    "with mlflow.start_run(run_name=run_name, experiment_id=housing_exp, description='hosing sample'):\n",
    "    mlflow.sklearn.log_model(lin_reg, \"model\")\n",
    "    model_uri = mlflow.get_artifact_uri(\"model\")\n",
    "    \n",
    "    mlflow.log_params(lin_reg.get_params())\n",
    "    \n",
    "    result = mlflow.evaluate(\n",
    "        model=model_uri,\n",
    "        data=eval_data,\n",
    "        targets=\"target\",\n",
    "        model_type=\"regressor\",\n",
    "        evaluators=[\"default\"],\n",
    "        custom_metrics=[\n",
    "            make_metric(\n",
    "                eval_fn=squared_diff_plus_one,\n",
    "                greater_is_better=False,\n",
    "            ),\n",
    "            make_metric(\n",
    "                eval_fn=sum_on_target_divided_by_two,\n",
    "                greater_is_better=True,\n",
    "            ),\n",
    "        ],\n",
    "        custom_artifacts=[prediction_target_scatter],\n",
    "    )\n",
    "\n",
    "pretty_print(result.metrics)"
   ]
  },
  {
   "cell_type": "code",
   "execution_count": null,
   "id": "06da66c1-b365-4f4d-a6df-8e90f6b820b8",
   "metadata": {},
   "outputs": [],
   "source": []
  }
 ],
 "metadata": {
  "kernelspec": {
   "display_name": "Python 3",
   "language": "python",
   "name": "python3"
  },
  "language_info": {
   "codemirror_mode": {
    "name": "ipython",
    "version": 3
   },
   "file_extension": ".py",
   "mimetype": "text/x-python",
   "name": "python",
   "nbconvert_exporter": "python",
   "pygments_lexer": "ipython3",
   "version": "3.8.8"
  }
 },
 "nbformat": 4,
 "nbformat_minor": 5
}
