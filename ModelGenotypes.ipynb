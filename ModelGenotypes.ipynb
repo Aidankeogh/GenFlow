{
 "cells": [
  {
   "cell_type": "markdown",
   "id": "ca139be3-46cb-4a04-a342-ee02aad4fa82",
   "metadata": {},
   "source": [
    "# Model Genotypes"
   ]
  },
  {
   "cell_type": "markdown",
   "id": "9d61b82e-cfe9-4bef-9516-94892af379d8",
   "metadata": {},
   "source": [
    "Model the genotypes matrix produced in GetSNPMatrix.ipynb"
   ]
  },
  {
   "cell_type": "code",
   "execution_count": 48,
   "id": "4a1b562c-d511-46a2-83d4-113cedc6a6da",
   "metadata": {},
   "outputs": [],
   "source": [
    "import sgkit as sg\n",
    "from sgkit.io import plink\n",
    "from sklearn.decomposition import PCA\n",
    "from sklearn.ensemble import RandomForestRegressor\n",
    "from sklearn.model_selection import cross_validate\n",
    "from sklearn.metrics import mean_absolute_error\n",
    "from sklearn.metrics import mean_squared_error\n",
    "from sklearn.metrics import r2_score\n",
    "from sklearn.model_selection import train_test_split\n",
    "from sklearn.linear_model import LinearRegression\n",
    "import pandas as pd\n",
    "import numpy as np\n",
    "import dask\n",
    "import pickle\n",
    "import xarray as xr"
   ]
  },
  {
   "cell_type": "code",
   "execution_count": 2,
   "id": "06db6297-ba5e-4302-a17d-f78d972afa0a",
   "metadata": {},
   "outputs": [
    {
     "data": {
      "text/plain": [
       "(13526, 96654)"
      ]
     },
     "execution_count": 2,
     "metadata": {},
     "output_type": "execute_result"
    }
   ],
   "source": [
    "ds = plink.read_plink(bed_path = 'ratgenes_pruned/ratgenes_pruned.bed', bim_path = 'ratgenes_pruned/ratgenes_pruned.bim', fam_path = 'ratgenes_pruned/ratgenes_pruned.fam')\n",
    "ds = ds.set_index({\"samples\": \"sample_id\"})\n",
    "ds = ds.set_index({\"variants\": \"variant_id\"})\n",
    "call_g_mask = ds[\"call_genotype_mask\"].any(dim = \"ploidy\")\n",
    "call_g = xr.where(call_g_mask, -1, ds[\"call_genotype\"].sum(dim = \"ploidy\"))\n",
    "genotypes_matrix = call_g.values\n",
    "genotypes_matrix = np.transpose(genotypes_matrix)\n",
    "genotypes_matrix.shape"
   ]
  },
  {
   "cell_type": "code",
   "execution_count": 3,
   "id": "b526aad7-591e-4231-b179-972065afaa84",
   "metadata": {},
   "outputs": [
    {
     "data": {
      "text/plain": [
       "array([[ 2,  0,  0, ...,  2,  2,  2],\n",
       "       [ 0,  2,  2, ...,  1,  1,  1],\n",
       "       [-1,  1,  1, ...,  2,  2,  2],\n",
       "       [ 1,  1,  1, ...,  0,  0,  0],\n",
       "       [-1,  0,  0, ...,  2,  2,  2]])"
      ]
     },
     "execution_count": 3,
     "metadata": {},
     "output_type": "execute_result"
    }
   ],
   "source": [
    "genotypes_matrix[:5]"
   ]
  },
  {
   "cell_type": "markdown",
   "id": "35a12f46-ab54-4c87-b39c-a25e5405320f",
   "metadata": {},
   "source": [
    "## Train a PCA to dimensionality reduce to 230 principle components"
   ]
  },
  {
   "cell_type": "code",
   "execution_count": 4,
   "id": "4356a2e9-7087-4938-aefb-ac330909ed80",
   "metadata": {},
   "outputs": [
    {
     "data": {
      "text/plain": [
       "PCA(n_components=230, random_state=42, svd_solver='randomized')"
      ]
     },
     "execution_count": 4,
     "metadata": {},
     "output_type": "execute_result"
    }
   ],
   "source": [
    "pca = PCA(n_components = 230, svd_solver = 'randomized', random_state = 42)\n",
    "pca.fit(genotypes_matrix)"
   ]
  },
  {
   "cell_type": "code",
   "execution_count": 5,
   "id": "306692ab-32a3-4894-a51e-451bb9f0d2ab",
   "metadata": {},
   "outputs": [
    {
     "data": {
      "text/plain": [
       "0.49436604670396506"
      ]
     },
     "execution_count": 5,
     "metadata": {},
     "output_type": "execute_result"
    }
   ],
   "source": [
    "sum(pca.explained_variance_ratio_)"
   ]
  },
  {
   "cell_type": "code",
   "execution_count": 6,
   "id": "d4bed671-aa06-439b-8472-e6f642dfa5b1",
   "metadata": {},
   "outputs": [],
   "source": [
    "genotypes_new = pca.transform(genotypes_matrix)"
   ]
  },
  {
   "cell_type": "code",
   "execution_count": 7,
   "id": "b7f86c13-8312-43ba-8c03-8d106eeca251",
   "metadata": {},
   "outputs": [
    {
     "data": {
      "text/plain": [
       "(13526, 230)"
      ]
     },
     "execution_count": 7,
     "metadata": {},
     "output_type": "execute_result"
    }
   ],
   "source": [
    "genotypes_new.shape"
   ]
  },
  {
   "cell_type": "markdown",
   "id": "c6c9a177-315e-430c-9e49-7c6799b61f00",
   "metadata": {},
   "source": [
    "## Load in 'loco' phenotypes dataset, filter accordingly"
   ]
  },
  {
   "cell_type": "code",
   "execution_count": 21,
   "id": "3e0f0e71-d4f0-4e19-8f48-4ac637ade75a",
   "metadata": {},
   "outputs": [
    {
     "data": {
      "text/html": [
       "<div>\n",
       "<style scoped>\n",
       "    .dataframe tbody tr th:only-of-type {\n",
       "        vertical-align: middle;\n",
       "    }\n",
       "\n",
       "    .dataframe tbody tr th {\n",
       "        vertical-align: top;\n",
       "    }\n",
       "\n",
       "    .dataframe thead th {\n",
       "        text-align: right;\n",
       "    }\n",
       "</style>\n",
       "<table border=\"1\" class=\"dataframe\">\n",
       "  <thead>\n",
       "    <tr style=\"text-align: right;\">\n",
       "      <th></th>\n",
       "      <th>rfid</th>\n",
       "      <th>loco_maxcent</th>\n",
       "      <th>loco_cent16_5</th>\n",
       "      <th>loco_cent13_5</th>\n",
       "      <th>loco_cent10_5</th>\n",
       "      <th>loco_cent7_5</th>\n",
       "      <th>loco_cent4_5</th>\n",
       "      <th>loco_cent1_5</th>\n",
       "      <th>loco_maxrear</th>\n",
       "      <th>loco_rear16_5</th>\n",
       "      <th>...</th>\n",
       "      <th>loco_act13_5</th>\n",
       "      <th>loco_act10_5</th>\n",
       "      <th>loco_act7_5</th>\n",
       "      <th>loco_act4_5</th>\n",
       "      <th>loco_act1_5</th>\n",
       "      <th>loco_center</th>\n",
       "      <th>loco_rear</th>\n",
       "      <th>loco_distance</th>\n",
       "      <th>loco_activity</th>\n",
       "      <th>loco_age</th>\n",
       "    </tr>\n",
       "  </thead>\n",
       "  <tbody>\n",
       "    <tr>\n",
       "      <th>0</th>\n",
       "      <td>00077E61F3</td>\n",
       "      <td>171.3</td>\n",
       "      <td>171.3</td>\n",
       "      <td>59.4</td>\n",
       "      <td>83.9</td>\n",
       "      <td>84.8</td>\n",
       "      <td>55.0</td>\n",
       "      <td>49.7</td>\n",
       "      <td>19.0</td>\n",
       "      <td>17.0</td>\n",
       "      <td>...</td>\n",
       "      <td>81.0</td>\n",
       "      <td>79.0</td>\n",
       "      <td>78.0</td>\n",
       "      <td>85.0</td>\n",
       "      <td>109.0</td>\n",
       "      <td>504.1</td>\n",
       "      <td>86.0</td>\n",
       "      <td>2367.0</td>\n",
       "      <td>470.0</td>\n",
       "      <td>73.0</td>\n",
       "    </tr>\n",
       "    <tr>\n",
       "      <th>1</th>\n",
       "      <td>00077E6207</td>\n",
       "      <td>115.4</td>\n",
       "      <td>40.8</td>\n",
       "      <td>115.4</td>\n",
       "      <td>12.4</td>\n",
       "      <td>7.9</td>\n",
       "      <td>80.9</td>\n",
       "      <td>45.5</td>\n",
       "      <td>26.0</td>\n",
       "      <td>10.0</td>\n",
       "      <td>...</td>\n",
       "      <td>65.0</td>\n",
       "      <td>54.0</td>\n",
       "      <td>74.0</td>\n",
       "      <td>100.0</td>\n",
       "      <td>135.0</td>\n",
       "      <td>302.9</td>\n",
       "      <td>69.0</td>\n",
       "      <td>2407.0</td>\n",
       "      <td>477.0</td>\n",
       "      <td>73.0</td>\n",
       "    </tr>\n",
       "    <tr>\n",
       "      <th>2</th>\n",
       "      <td>00077E6232</td>\n",
       "      <td>48.1</td>\n",
       "      <td>32.9</td>\n",
       "      <td>28.0</td>\n",
       "      <td>48.1</td>\n",
       "      <td>33.1</td>\n",
       "      <td>37.2</td>\n",
       "      <td>29.0</td>\n",
       "      <td>20.0</td>\n",
       "      <td>10.0</td>\n",
       "      <td>...</td>\n",
       "      <td>73.0</td>\n",
       "      <td>81.0</td>\n",
       "      <td>86.0</td>\n",
       "      <td>94.0</td>\n",
       "      <td>124.0</td>\n",
       "      <td>208.3</td>\n",
       "      <td>66.0</td>\n",
       "      <td>2690.0</td>\n",
       "      <td>527.0</td>\n",
       "      <td>77.0</td>\n",
       "    </tr>\n",
       "    <tr>\n",
       "      <th>3</th>\n",
       "      <td>00077E6239</td>\n",
       "      <td>147.1</td>\n",
       "      <td>128.2</td>\n",
       "      <td>88.7</td>\n",
       "      <td>147.1</td>\n",
       "      <td>118.0</td>\n",
       "      <td>127.8</td>\n",
       "      <td>109.0</td>\n",
       "      <td>25.0</td>\n",
       "      <td>0.0</td>\n",
       "      <td>...</td>\n",
       "      <td>25.0</td>\n",
       "      <td>65.0</td>\n",
       "      <td>72.0</td>\n",
       "      <td>85.0</td>\n",
       "      <td>97.0</td>\n",
       "      <td>718.8</td>\n",
       "      <td>55.0</td>\n",
       "      <td>1536.0</td>\n",
       "      <td>371.0</td>\n",
       "      <td>81.0</td>\n",
       "    </tr>\n",
       "    <tr>\n",
       "      <th>4</th>\n",
       "      <td>00077E62D2</td>\n",
       "      <td>89.4</td>\n",
       "      <td>0.0</td>\n",
       "      <td>0.0</td>\n",
       "      <td>0.0</td>\n",
       "      <td>7.4</td>\n",
       "      <td>89.4</td>\n",
       "      <td>12.0</td>\n",
       "      <td>22.0</td>\n",
       "      <td>0.0</td>\n",
       "      <td>...</td>\n",
       "      <td>29.0</td>\n",
       "      <td>42.0</td>\n",
       "      <td>59.0</td>\n",
       "      <td>88.0</td>\n",
       "      <td>96.0</td>\n",
       "      <td>108.8</td>\n",
       "      <td>40.0</td>\n",
       "      <td>1775.0</td>\n",
       "      <td>352.0</td>\n",
       "      <td>77.0</td>\n",
       "    </tr>\n",
       "  </tbody>\n",
       "</table>\n",
       "<p>5 rows × 34 columns</p>\n",
       "</div>"
      ],
      "text/plain": [
       "         rfid  loco_maxcent  loco_cent16_5  loco_cent13_5  loco_cent10_5  \\\n",
       "0  00077E61F3         171.3          171.3           59.4           83.9   \n",
       "1  00077E6207         115.4           40.8          115.4           12.4   \n",
       "2  00077E6232          48.1           32.9           28.0           48.1   \n",
       "3  00077E6239         147.1          128.2           88.7          147.1   \n",
       "4  00077E62D2          89.4            0.0            0.0            0.0   \n",
       "\n",
       "   loco_cent7_5  loco_cent4_5  loco_cent1_5  loco_maxrear  loco_rear16_5  ...  \\\n",
       "0          84.8          55.0          49.7          19.0           17.0  ...   \n",
       "1           7.9          80.9          45.5          26.0           10.0  ...   \n",
       "2          33.1          37.2          29.0          20.0           10.0  ...   \n",
       "3         118.0         127.8         109.0          25.0            0.0  ...   \n",
       "4           7.4          89.4          12.0          22.0            0.0  ...   \n",
       "\n",
       "   loco_act13_5  loco_act10_5  loco_act7_5  loco_act4_5  loco_act1_5  \\\n",
       "0          81.0          79.0         78.0         85.0        109.0   \n",
       "1          65.0          54.0         74.0        100.0        135.0   \n",
       "2          73.0          81.0         86.0         94.0        124.0   \n",
       "3          25.0          65.0         72.0         85.0         97.0   \n",
       "4          29.0          42.0         59.0         88.0         96.0   \n",
       "\n",
       "   loco_center  loco_rear  loco_distance  loco_activity  loco_age  \n",
       "0        504.1       86.0         2367.0          470.0      73.0  \n",
       "1        302.9       69.0         2407.0          477.0      73.0  \n",
       "2        208.3       66.0         2690.0          527.0      77.0  \n",
       "3        718.8       55.0         1536.0          371.0      81.0  \n",
       "4        108.8       40.0         1775.0          352.0      77.0  \n",
       "\n",
       "[5 rows x 34 columns]"
      ]
     },
     "execution_count": 21,
     "metadata": {},
     "output_type": "execute_result"
    }
   ],
   "source": [
    "loco = pd.read_csv(\"pheno_loco_clean.txt\", sep = '\\t')\n",
    "loco.head()"
   ]
  },
  {
   "cell_type": "code",
   "execution_count": 22,
   "id": "5d8e336f-2366-461b-ac06-0002a4b76ae2",
   "metadata": {},
   "outputs": [
    {
     "name": "stdout",
     "output_type": "stream",
     "text": [
      "Index(['rfid', 'loco_maxcent', 'loco_cent16_5', 'loco_cent13_5',\n",
      "       'loco_cent10_5', 'loco_cent7_5', 'loco_cent4_5', 'loco_cent1_5',\n",
      "       'loco_maxrear', 'loco_rear16_5', 'loco_rear13_5', 'loco_rear10_5',\n",
      "       'loco_rear7_5', 'loco_rear4_5', 'loco_rear1_5', 'loco_maxdis',\n",
      "       'loco_dis16_5', 'loco_dis13_5', 'loco_dis10_5', 'loco_dis7_5',\n",
      "       'loco_dis4_5', 'loco_dis1_5', 'loco_maxact', 'loco_act16_5',\n",
      "       'loco_act13_5', 'loco_act10_5', 'loco_act7_5', 'loco_act4_5',\n",
      "       'loco_act1_5', 'loco_center', 'loco_rear', 'loco_distance',\n",
      "       'loco_activity', 'loco_age'],\n",
      "      dtype='object')\n"
     ]
    }
   ],
   "source": [
    "print(loco.columns)"
   ]
  },
  {
   "cell_type": "markdown",
   "id": "14076aa6-29ba-4a51-9cf5-a57328ceb1f2",
   "metadata": {},
   "source": [
    "### Only use the 'max' loco phenotypes"
   ]
  },
  {
   "cell_type": "code",
   "execution_count": 23,
   "id": "d2e770c9-1666-4ea8-a0a9-753e7ae39630",
   "metadata": {},
   "outputs": [],
   "source": [
    "pheno_select = ['rfid', 'loco_maxcent', 'loco_maxdis', 'loco_maxrear', 'loco_maxact']"
   ]
  },
  {
   "cell_type": "code",
   "execution_count": 24,
   "id": "659469db-b90c-4dec-ada9-4d3f893a3375",
   "metadata": {},
   "outputs": [],
   "source": [
    "loco_select = loco[pheno_select]\n",
    "loco_select = loco_select.set_index('rfid')"
   ]
  },
  {
   "cell_type": "code",
   "execution_count": 25,
   "id": "c68e7abb-7033-4703-938e-8a1ea33365d4",
   "metadata": {},
   "outputs": [
    {
     "data": {
      "text/html": [
       "<div>\n",
       "<style scoped>\n",
       "    .dataframe tbody tr th:only-of-type {\n",
       "        vertical-align: middle;\n",
       "    }\n",
       "\n",
       "    .dataframe tbody tr th {\n",
       "        vertical-align: top;\n",
       "    }\n",
       "\n",
       "    .dataframe thead th {\n",
       "        text-align: right;\n",
       "    }\n",
       "</style>\n",
       "<table border=\"1\" class=\"dataframe\">\n",
       "  <thead>\n",
       "    <tr style=\"text-align: right;\">\n",
       "      <th></th>\n",
       "      <th>loco_maxcent</th>\n",
       "      <th>loco_maxdis</th>\n",
       "      <th>loco_maxrear</th>\n",
       "      <th>loco_maxact</th>\n",
       "    </tr>\n",
       "    <tr>\n",
       "      <th>rfid</th>\n",
       "      <th></th>\n",
       "      <th></th>\n",
       "      <th></th>\n",
       "      <th></th>\n",
       "    </tr>\n",
       "  </thead>\n",
       "  <tbody>\n",
       "    <tr>\n",
       "      <th>00077E61F3</th>\n",
       "      <td>171.3</td>\n",
       "      <td>568.0</td>\n",
       "      <td>19.0</td>\n",
       "      <td>109.0</td>\n",
       "    </tr>\n",
       "    <tr>\n",
       "      <th>00077E6207</th>\n",
       "      <td>115.4</td>\n",
       "      <td>697.0</td>\n",
       "      <td>26.0</td>\n",
       "      <td>135.0</td>\n",
       "    </tr>\n",
       "    <tr>\n",
       "      <th>00077E6232</th>\n",
       "      <td>48.1</td>\n",
       "      <td>652.0</td>\n",
       "      <td>20.0</td>\n",
       "      <td>124.0</td>\n",
       "    </tr>\n",
       "    <tr>\n",
       "      <th>00077E6239</th>\n",
       "      <td>147.1</td>\n",
       "      <td>466.0</td>\n",
       "      <td>25.0</td>\n",
       "      <td>97.0</td>\n",
       "    </tr>\n",
       "    <tr>\n",
       "      <th>00077E62D2</th>\n",
       "      <td>89.4</td>\n",
       "      <td>599.0</td>\n",
       "      <td>22.0</td>\n",
       "      <td>96.0</td>\n",
       "    </tr>\n",
       "  </tbody>\n",
       "</table>\n",
       "</div>"
      ],
      "text/plain": [
       "            loco_maxcent  loco_maxdis  loco_maxrear  loco_maxact\n",
       "rfid                                                            \n",
       "00077E61F3         171.3        568.0          19.0        109.0\n",
       "00077E6207         115.4        697.0          26.0        135.0\n",
       "00077E6232          48.1        652.0          20.0        124.0\n",
       "00077E6239         147.1        466.0          25.0         97.0\n",
       "00077E62D2          89.4        599.0          22.0         96.0"
      ]
     },
     "execution_count": 25,
     "metadata": {},
     "output_type": "execute_result"
    }
   ],
   "source": [
    "loco_select.head()"
   ]
  },
  {
   "cell_type": "markdown",
   "id": "9e6dfe9b-78a9-4827-b117-aad836084ea9",
   "metadata": {},
   "source": [
    "### Filter genotypes_new to only have rats in the loco phenotypes dataset"
   ]
  },
  {
   "cell_type": "code",
   "execution_count": 26,
   "id": "54d8e903-aa79-43fa-8572-bebf0c2bc104",
   "metadata": {},
   "outputs": [
    {
     "data": {
      "text/html": [
       "<div>\n",
       "<style scoped>\n",
       "    .dataframe tbody tr th:only-of-type {\n",
       "        vertical-align: middle;\n",
       "    }\n",
       "\n",
       "    .dataframe tbody tr th {\n",
       "        vertical-align: top;\n",
       "    }\n",
       "\n",
       "    .dataframe thead th {\n",
       "        text-align: right;\n",
       "    }\n",
       "</style>\n",
       "<table border=\"1\" class=\"dataframe\">\n",
       "  <thead>\n",
       "    <tr style=\"text-align: right;\">\n",
       "      <th></th>\n",
       "      <th>0</th>\n",
       "      <th>1</th>\n",
       "      <th>2</th>\n",
       "      <th>3</th>\n",
       "      <th>4</th>\n",
       "      <th>5</th>\n",
       "      <th>6</th>\n",
       "      <th>7</th>\n",
       "      <th>8</th>\n",
       "      <th>9</th>\n",
       "      <th>...</th>\n",
       "      <th>220</th>\n",
       "      <th>221</th>\n",
       "      <th>222</th>\n",
       "      <th>223</th>\n",
       "      <th>224</th>\n",
       "      <th>225</th>\n",
       "      <th>226</th>\n",
       "      <th>227</th>\n",
       "      <th>228</th>\n",
       "      <th>229</th>\n",
       "    </tr>\n",
       "    <tr>\n",
       "      <th>rfid</th>\n",
       "      <th></th>\n",
       "      <th></th>\n",
       "      <th></th>\n",
       "      <th></th>\n",
       "      <th></th>\n",
       "      <th></th>\n",
       "      <th></th>\n",
       "      <th></th>\n",
       "      <th></th>\n",
       "      <th></th>\n",
       "      <th></th>\n",
       "      <th></th>\n",
       "      <th></th>\n",
       "      <th></th>\n",
       "      <th></th>\n",
       "      <th></th>\n",
       "      <th></th>\n",
       "      <th></th>\n",
       "      <th></th>\n",
       "      <th></th>\n",
       "      <th></th>\n",
       "    </tr>\n",
       "  </thead>\n",
       "  <tbody>\n",
       "    <tr>\n",
       "      <th>00077E7A10</th>\n",
       "      <td>21.709824</td>\n",
       "      <td>12.072828</td>\n",
       "      <td>-14.469518</td>\n",
       "      <td>10.050205</td>\n",
       "      <td>12.191051</td>\n",
       "      <td>25.037595</td>\n",
       "      <td>-4.342536</td>\n",
       "      <td>3.936908</td>\n",
       "      <td>-0.570887</td>\n",
       "      <td>3.893769</td>\n",
       "      <td>...</td>\n",
       "      <td>-1.011270</td>\n",
       "      <td>13.147396</td>\n",
       "      <td>-5.451745</td>\n",
       "      <td>10.405451</td>\n",
       "      <td>-5.676592</td>\n",
       "      <td>-6.532274</td>\n",
       "      <td>-7.261003</td>\n",
       "      <td>-1.217770</td>\n",
       "      <td>1.828908</td>\n",
       "      <td>-3.812544</td>\n",
       "    </tr>\n",
       "    <tr>\n",
       "      <th>00077E7AB7</th>\n",
       "      <td>10.251807</td>\n",
       "      <td>-20.152089</td>\n",
       "      <td>12.094699</td>\n",
       "      <td>32.042794</td>\n",
       "      <td>35.683056</td>\n",
       "      <td>4.597834</td>\n",
       "      <td>4.988165</td>\n",
       "      <td>1.998382</td>\n",
       "      <td>5.511070</td>\n",
       "      <td>19.087811</td>\n",
       "      <td>...</td>\n",
       "      <td>-4.685307</td>\n",
       "      <td>1.948354</td>\n",
       "      <td>-2.321170</td>\n",
       "      <td>1.964835</td>\n",
       "      <td>-1.139532</td>\n",
       "      <td>11.669304</td>\n",
       "      <td>-2.024051</td>\n",
       "      <td>-0.691334</td>\n",
       "      <td>6.931910</td>\n",
       "      <td>3.262146</td>\n",
       "    </tr>\n",
       "    <tr>\n",
       "      <th>00077E9536</th>\n",
       "      <td>15.351759</td>\n",
       "      <td>-3.476920</td>\n",
       "      <td>-14.406917</td>\n",
       "      <td>17.259060</td>\n",
       "      <td>-10.742299</td>\n",
       "      <td>19.919575</td>\n",
       "      <td>3.433845</td>\n",
       "      <td>7.161555</td>\n",
       "      <td>14.531464</td>\n",
       "      <td>-10.262331</td>\n",
       "      <td>...</td>\n",
       "      <td>1.911253</td>\n",
       "      <td>-1.141637</td>\n",
       "      <td>-2.067857</td>\n",
       "      <td>-1.843890</td>\n",
       "      <td>-9.586000</td>\n",
       "      <td>-1.204874</td>\n",
       "      <td>6.487740</td>\n",
       "      <td>-5.035391</td>\n",
       "      <td>3.982582</td>\n",
       "      <td>0.055638</td>\n",
       "    </tr>\n",
       "    <tr>\n",
       "      <th>00077E9B37</th>\n",
       "      <td>8.834164</td>\n",
       "      <td>-17.780039</td>\n",
       "      <td>9.199224</td>\n",
       "      <td>12.695393</td>\n",
       "      <td>8.417267</td>\n",
       "      <td>22.016319</td>\n",
       "      <td>-6.350907</td>\n",
       "      <td>7.009582</td>\n",
       "      <td>-3.883824</td>\n",
       "      <td>-24.632733</td>\n",
       "      <td>...</td>\n",
       "      <td>-2.834063</td>\n",
       "      <td>10.359420</td>\n",
       "      <td>6.056744</td>\n",
       "      <td>1.970687</td>\n",
       "      <td>-1.481837</td>\n",
       "      <td>-2.343528</td>\n",
       "      <td>-1.500875</td>\n",
       "      <td>1.351971</td>\n",
       "      <td>0.085634</td>\n",
       "      <td>2.519491</td>\n",
       "    </tr>\n",
       "    <tr>\n",
       "      <th>00077EA639</th>\n",
       "      <td>9.803076</td>\n",
       "      <td>-7.746949</td>\n",
       "      <td>4.268591</td>\n",
       "      <td>-23.002719</td>\n",
       "      <td>19.123769</td>\n",
       "      <td>-16.657941</td>\n",
       "      <td>0.266084</td>\n",
       "      <td>26.214961</td>\n",
       "      <td>-18.288304</td>\n",
       "      <td>-15.743960</td>\n",
       "      <td>...</td>\n",
       "      <td>-2.764159</td>\n",
       "      <td>8.161467</td>\n",
       "      <td>3.382217</td>\n",
       "      <td>-6.043890</td>\n",
       "      <td>-7.473324</td>\n",
       "      <td>-11.946652</td>\n",
       "      <td>-6.862979</td>\n",
       "      <td>-9.360968</td>\n",
       "      <td>5.631419</td>\n",
       "      <td>-0.069384</td>\n",
       "    </tr>\n",
       "    <tr>\n",
       "      <th>00077EAA6C</th>\n",
       "      <td>0.951847</td>\n",
       "      <td>-39.848080</td>\n",
       "      <td>8.224686</td>\n",
       "      <td>29.325067</td>\n",
       "      <td>-22.573166</td>\n",
       "      <td>-16.900857</td>\n",
       "      <td>2.526914</td>\n",
       "      <td>-7.386044</td>\n",
       "      <td>1.414387</td>\n",
       "      <td>9.050317</td>\n",
       "      <td>...</td>\n",
       "      <td>0.437416</td>\n",
       "      <td>-2.656478</td>\n",
       "      <td>-5.185582</td>\n",
       "      <td>5.520276</td>\n",
       "      <td>-0.254113</td>\n",
       "      <td>5.486362</td>\n",
       "      <td>-7.230508</td>\n",
       "      <td>0.962354</td>\n",
       "      <td>4.592058</td>\n",
       "      <td>-4.211326</td>\n",
       "    </tr>\n",
       "    <tr>\n",
       "      <th>00077EAF65</th>\n",
       "      <td>-4.694665</td>\n",
       "      <td>-32.266892</td>\n",
       "      <td>11.586474</td>\n",
       "      <td>-30.461401</td>\n",
       "      <td>22.723234</td>\n",
       "      <td>-3.508425</td>\n",
       "      <td>3.701445</td>\n",
       "      <td>13.203889</td>\n",
       "      <td>2.394440</td>\n",
       "      <td>-0.061927</td>\n",
       "      <td>...</td>\n",
       "      <td>3.097625</td>\n",
       "      <td>-7.556109</td>\n",
       "      <td>-4.634019</td>\n",
       "      <td>13.587611</td>\n",
       "      <td>-1.706229</td>\n",
       "      <td>14.081353</td>\n",
       "      <td>-6.685088</td>\n",
       "      <td>-1.123160</td>\n",
       "      <td>-2.315727</td>\n",
       "      <td>-0.304997</td>\n",
       "    </tr>\n",
       "    <tr>\n",
       "      <th>00078A1795</th>\n",
       "      <td>16.207063</td>\n",
       "      <td>-15.204335</td>\n",
       "      <td>6.120047</td>\n",
       "      <td>-20.563964</td>\n",
       "      <td>-21.978036</td>\n",
       "      <td>18.227382</td>\n",
       "      <td>4.015749</td>\n",
       "      <td>0.091782</td>\n",
       "      <td>-10.522078</td>\n",
       "      <td>-0.404186</td>\n",
       "      <td>...</td>\n",
       "      <td>0.023156</td>\n",
       "      <td>1.919849</td>\n",
       "      <td>-1.308717</td>\n",
       "      <td>2.311879</td>\n",
       "      <td>0.063058</td>\n",
       "      <td>3.248690</td>\n",
       "      <td>5.004681</td>\n",
       "      <td>-0.103311</td>\n",
       "      <td>9.366129</td>\n",
       "      <td>5.513470</td>\n",
       "    </tr>\n",
       "    <tr>\n",
       "      <th>933000120117306</th>\n",
       "      <td>-6.191658</td>\n",
       "      <td>-4.203107</td>\n",
       "      <td>11.725222</td>\n",
       "      <td>25.356851</td>\n",
       "      <td>-21.140272</td>\n",
       "      <td>-21.431007</td>\n",
       "      <td>-10.121674</td>\n",
       "      <td>-8.580559</td>\n",
       "      <td>1.036483</td>\n",
       "      <td>12.148989</td>\n",
       "      <td>...</td>\n",
       "      <td>-0.936276</td>\n",
       "      <td>1.992044</td>\n",
       "      <td>-1.562111</td>\n",
       "      <td>0.717499</td>\n",
       "      <td>-14.376920</td>\n",
       "      <td>-2.026891</td>\n",
       "      <td>-1.891763</td>\n",
       "      <td>-14.290164</td>\n",
       "      <td>-10.651457</td>\n",
       "      <td>-2.432428</td>\n",
       "    </tr>\n",
       "    <tr>\n",
       "      <th>933000120117307</th>\n",
       "      <td>7.090934</td>\n",
       "      <td>-18.017996</td>\n",
       "      <td>-31.194238</td>\n",
       "      <td>2.288079</td>\n",
       "      <td>-10.316459</td>\n",
       "      <td>8.467924</td>\n",
       "      <td>-3.626839</td>\n",
       "      <td>-8.825813</td>\n",
       "      <td>-15.588856</td>\n",
       "      <td>-0.204784</td>\n",
       "      <td>...</td>\n",
       "      <td>13.217992</td>\n",
       "      <td>0.939948</td>\n",
       "      <td>-5.242698</td>\n",
       "      <td>2.577477</td>\n",
       "      <td>3.964434</td>\n",
       "      <td>9.601199</td>\n",
       "      <td>8.753398</td>\n",
       "      <td>-1.162443</td>\n",
       "      <td>-2.275937</td>\n",
       "      <td>-2.975999</td>\n",
       "    </tr>\n",
       "  </tbody>\n",
       "</table>\n",
       "<p>10 rows × 230 columns</p>\n",
       "</div>"
      ],
      "text/plain": [
       "                       0          1          2          3          4    \\\n",
       "rfid                                                                     \n",
       "00077E7A10       21.709824  12.072828 -14.469518  10.050205  12.191051   \n",
       "00077E7AB7       10.251807 -20.152089  12.094699  32.042794  35.683056   \n",
       "00077E9536       15.351759  -3.476920 -14.406917  17.259060 -10.742299   \n",
       "00077E9B37        8.834164 -17.780039   9.199224  12.695393   8.417267   \n",
       "00077EA639        9.803076  -7.746949   4.268591 -23.002719  19.123769   \n",
       "00077EAA6C        0.951847 -39.848080   8.224686  29.325067 -22.573166   \n",
       "00077EAF65       -4.694665 -32.266892  11.586474 -30.461401  22.723234   \n",
       "00078A1795       16.207063 -15.204335   6.120047 -20.563964 -21.978036   \n",
       "933000120117306  -6.191658  -4.203107  11.725222  25.356851 -21.140272   \n",
       "933000120117307   7.090934 -18.017996 -31.194238   2.288079 -10.316459   \n",
       "\n",
       "                       5          6          7          8          9    ...  \\\n",
       "rfid                                                                    ...   \n",
       "00077E7A10       25.037595  -4.342536   3.936908  -0.570887   3.893769  ...   \n",
       "00077E7AB7        4.597834   4.988165   1.998382   5.511070  19.087811  ...   \n",
       "00077E9536       19.919575   3.433845   7.161555  14.531464 -10.262331  ...   \n",
       "00077E9B37       22.016319  -6.350907   7.009582  -3.883824 -24.632733  ...   \n",
       "00077EA639      -16.657941   0.266084  26.214961 -18.288304 -15.743960  ...   \n",
       "00077EAA6C      -16.900857   2.526914  -7.386044   1.414387   9.050317  ...   \n",
       "00077EAF65       -3.508425   3.701445  13.203889   2.394440  -0.061927  ...   \n",
       "00078A1795       18.227382   4.015749   0.091782 -10.522078  -0.404186  ...   \n",
       "933000120117306 -21.431007 -10.121674  -8.580559   1.036483  12.148989  ...   \n",
       "933000120117307   8.467924  -3.626839  -8.825813 -15.588856  -0.204784  ...   \n",
       "\n",
       "                       220        221       222        223        224  \\\n",
       "rfid                                                                    \n",
       "00077E7A10       -1.011270  13.147396 -5.451745  10.405451  -5.676592   \n",
       "00077E7AB7       -4.685307   1.948354 -2.321170   1.964835  -1.139532   \n",
       "00077E9536        1.911253  -1.141637 -2.067857  -1.843890  -9.586000   \n",
       "00077E9B37       -2.834063  10.359420  6.056744   1.970687  -1.481837   \n",
       "00077EA639       -2.764159   8.161467  3.382217  -6.043890  -7.473324   \n",
       "00077EAA6C        0.437416  -2.656478 -5.185582   5.520276  -0.254113   \n",
       "00077EAF65        3.097625  -7.556109 -4.634019  13.587611  -1.706229   \n",
       "00078A1795        0.023156   1.919849 -1.308717   2.311879   0.063058   \n",
       "933000120117306  -0.936276   1.992044 -1.562111   0.717499 -14.376920   \n",
       "933000120117307  13.217992   0.939948 -5.242698   2.577477   3.964434   \n",
       "\n",
       "                       225       226        227        228       229  \n",
       "rfid                                                                  \n",
       "00077E7A10       -6.532274 -7.261003  -1.217770   1.828908 -3.812544  \n",
       "00077E7AB7       11.669304 -2.024051  -0.691334   6.931910  3.262146  \n",
       "00077E9536       -1.204874  6.487740  -5.035391   3.982582  0.055638  \n",
       "00077E9B37       -2.343528 -1.500875   1.351971   0.085634  2.519491  \n",
       "00077EA639      -11.946652 -6.862979  -9.360968   5.631419 -0.069384  \n",
       "00077EAA6C        5.486362 -7.230508   0.962354   4.592058 -4.211326  \n",
       "00077EAF65       14.081353 -6.685088  -1.123160  -2.315727 -0.304997  \n",
       "00078A1795        3.248690  5.004681  -0.103311   9.366129  5.513470  \n",
       "933000120117306  -2.026891 -1.891763 -14.290164 -10.651457 -2.432428  \n",
       "933000120117307   9.601199  8.753398  -1.162443  -2.275937 -2.975999  \n",
       "\n",
       "[10 rows x 230 columns]"
      ]
     },
     "execution_count": 26,
     "metadata": {},
     "output_type": "execute_result"
    }
   ],
   "source": [
    "rat_ids = ds[\"samples\"].values\n",
    "genotypes_new_df = pd.DataFrame(data = genotypes_new, index = rat_ids)\n",
    "genotypes_new_df.index.name = 'rfid'\n",
    "genotypes_new_df.head(10)"
   ]
  },
  {
   "cell_type": "code",
   "execution_count": 27,
   "id": "e699af9d-ce45-4416-8289-2a661d39bad2",
   "metadata": {},
   "outputs": [],
   "source": [
    "geno_with_pheno = pd.merge(genotypes_new_df, loco_select, left_index=True, right_index=True)"
   ]
  },
  {
   "cell_type": "code",
   "execution_count": 30,
   "id": "a13a97f0-4598-4e26-814f-0311da9b15ed",
   "metadata": {},
   "outputs": [
    {
     "name": "stdout",
     "output_type": "stream",
     "text": [
      "(2368, 234)\n"
     ]
    },
    {
     "data": {
      "text/html": [
       "<div>\n",
       "<style scoped>\n",
       "    .dataframe tbody tr th:only-of-type {\n",
       "        vertical-align: middle;\n",
       "    }\n",
       "\n",
       "    .dataframe tbody tr th {\n",
       "        vertical-align: top;\n",
       "    }\n",
       "\n",
       "    .dataframe thead th {\n",
       "        text-align: right;\n",
       "    }\n",
       "</style>\n",
       "<table border=\"1\" class=\"dataframe\">\n",
       "  <thead>\n",
       "    <tr style=\"text-align: right;\">\n",
       "      <th></th>\n",
       "      <th>0</th>\n",
       "      <th>1</th>\n",
       "      <th>2</th>\n",
       "      <th>3</th>\n",
       "      <th>4</th>\n",
       "      <th>5</th>\n",
       "      <th>6</th>\n",
       "      <th>7</th>\n",
       "      <th>8</th>\n",
       "      <th>9</th>\n",
       "      <th>...</th>\n",
       "      <th>224</th>\n",
       "      <th>225</th>\n",
       "      <th>226</th>\n",
       "      <th>227</th>\n",
       "      <th>228</th>\n",
       "      <th>229</th>\n",
       "      <th>loco_maxcent</th>\n",
       "      <th>loco_maxdis</th>\n",
       "      <th>loco_maxrear</th>\n",
       "      <th>loco_maxact</th>\n",
       "    </tr>\n",
       "    <tr>\n",
       "      <th>rfid</th>\n",
       "      <th></th>\n",
       "      <th></th>\n",
       "      <th></th>\n",
       "      <th></th>\n",
       "      <th></th>\n",
       "      <th></th>\n",
       "      <th></th>\n",
       "      <th></th>\n",
       "      <th></th>\n",
       "      <th></th>\n",
       "      <th></th>\n",
       "      <th></th>\n",
       "      <th></th>\n",
       "      <th></th>\n",
       "      <th></th>\n",
       "      <th></th>\n",
       "      <th></th>\n",
       "      <th></th>\n",
       "      <th></th>\n",
       "      <th></th>\n",
       "      <th></th>\n",
       "    </tr>\n",
       "  </thead>\n",
       "  <tbody>\n",
       "    <tr>\n",
       "      <th>00077E61F3</th>\n",
       "      <td>12.132373</td>\n",
       "      <td>-27.873886</td>\n",
       "      <td>-14.636472</td>\n",
       "      <td>-26.720286</td>\n",
       "      <td>26.233786</td>\n",
       "      <td>3.293454</td>\n",
       "      <td>30.755103</td>\n",
       "      <td>7.669595</td>\n",
       "      <td>13.660288</td>\n",
       "      <td>15.109918</td>\n",
       "      <td>...</td>\n",
       "      <td>-0.141110</td>\n",
       "      <td>-1.339633</td>\n",
       "      <td>-1.669866</td>\n",
       "      <td>1.930249</td>\n",
       "      <td>-0.369967</td>\n",
       "      <td>10.188985</td>\n",
       "      <td>171.3</td>\n",
       "      <td>568.0</td>\n",
       "      <td>19.0</td>\n",
       "      <td>109.0</td>\n",
       "    </tr>\n",
       "    <tr>\n",
       "      <th>00077E6207</th>\n",
       "      <td>24.160556</td>\n",
       "      <td>-3.360570</td>\n",
       "      <td>-16.108081</td>\n",
       "      <td>-9.779261</td>\n",
       "      <td>6.075024</td>\n",
       "      <td>4.609520</td>\n",
       "      <td>5.747501</td>\n",
       "      <td>22.148976</td>\n",
       "      <td>-8.586358</td>\n",
       "      <td>41.392904</td>\n",
       "      <td>...</td>\n",
       "      <td>-3.290691</td>\n",
       "      <td>4.556553</td>\n",
       "      <td>-2.546501</td>\n",
       "      <td>10.478027</td>\n",
       "      <td>4.803143</td>\n",
       "      <td>2.155855</td>\n",
       "      <td>115.4</td>\n",
       "      <td>697.0</td>\n",
       "      <td>26.0</td>\n",
       "      <td>135.0</td>\n",
       "    </tr>\n",
       "    <tr>\n",
       "      <th>00077E6232</th>\n",
       "      <td>-6.942274</td>\n",
       "      <td>-32.741051</td>\n",
       "      <td>9.209822</td>\n",
       "      <td>-1.429617</td>\n",
       "      <td>1.623430</td>\n",
       "      <td>2.734864</td>\n",
       "      <td>-2.248120</td>\n",
       "      <td>12.853267</td>\n",
       "      <td>19.937163</td>\n",
       "      <td>39.250381</td>\n",
       "      <td>...</td>\n",
       "      <td>7.420198</td>\n",
       "      <td>-2.230633</td>\n",
       "      <td>-4.459790</td>\n",
       "      <td>3.744106</td>\n",
       "      <td>-1.721060</td>\n",
       "      <td>-4.232724</td>\n",
       "      <td>48.1</td>\n",
       "      <td>652.0</td>\n",
       "      <td>20.0</td>\n",
       "      <td>124.0</td>\n",
       "    </tr>\n",
       "    <tr>\n",
       "      <th>00077E6239</th>\n",
       "      <td>37.447490</td>\n",
       "      <td>10.638265</td>\n",
       "      <td>21.291678</td>\n",
       "      <td>-31.275648</td>\n",
       "      <td>-9.963302</td>\n",
       "      <td>14.188800</td>\n",
       "      <td>10.224169</td>\n",
       "      <td>-18.771409</td>\n",
       "      <td>2.581385</td>\n",
       "      <td>-9.787773</td>\n",
       "      <td>...</td>\n",
       "      <td>1.767202</td>\n",
       "      <td>-1.183130</td>\n",
       "      <td>3.834784</td>\n",
       "      <td>2.807185</td>\n",
       "      <td>-0.567963</td>\n",
       "      <td>-1.476755</td>\n",
       "      <td>147.1</td>\n",
       "      <td>466.0</td>\n",
       "      <td>25.0</td>\n",
       "      <td>97.0</td>\n",
       "    </tr>\n",
       "    <tr>\n",
       "      <th>00077E62D2</th>\n",
       "      <td>46.597835</td>\n",
       "      <td>-1.252157</td>\n",
       "      <td>14.851641</td>\n",
       "      <td>18.114037</td>\n",
       "      <td>-5.990133</td>\n",
       "      <td>-3.146445</td>\n",
       "      <td>-18.604235</td>\n",
       "      <td>-11.121621</td>\n",
       "      <td>-5.681867</td>\n",
       "      <td>-1.117822</td>\n",
       "      <td>...</td>\n",
       "      <td>-2.861280</td>\n",
       "      <td>1.916741</td>\n",
       "      <td>-9.818025</td>\n",
       "      <td>13.642586</td>\n",
       "      <td>6.387523</td>\n",
       "      <td>-12.712059</td>\n",
       "      <td>89.4</td>\n",
       "      <td>599.0</td>\n",
       "      <td>22.0</td>\n",
       "      <td>96.0</td>\n",
       "    </tr>\n",
       "  </tbody>\n",
       "</table>\n",
       "<p>5 rows × 234 columns</p>\n",
       "</div>"
      ],
      "text/plain": [
       "                    0          1          2          3          4          5  \\\n",
       "rfid                                                                           \n",
       "00077E61F3  12.132373 -27.873886 -14.636472 -26.720286  26.233786   3.293454   \n",
       "00077E6207  24.160556  -3.360570 -16.108081  -9.779261   6.075024   4.609520   \n",
       "00077E6232  -6.942274 -32.741051   9.209822  -1.429617   1.623430   2.734864   \n",
       "00077E6239  37.447490  10.638265  21.291678 -31.275648  -9.963302  14.188800   \n",
       "00077E62D2  46.597835  -1.252157  14.851641  18.114037  -5.990133  -3.146445   \n",
       "\n",
       "                    6          7          8          9  ...       224  \\\n",
       "rfid                                                    ...             \n",
       "00077E61F3  30.755103   7.669595  13.660288  15.109918  ... -0.141110   \n",
       "00077E6207   5.747501  22.148976  -8.586358  41.392904  ... -3.290691   \n",
       "00077E6232  -2.248120  12.853267  19.937163  39.250381  ...  7.420198   \n",
       "00077E6239  10.224169 -18.771409   2.581385  -9.787773  ...  1.767202   \n",
       "00077E62D2 -18.604235 -11.121621  -5.681867  -1.117822  ... -2.861280   \n",
       "\n",
       "                 225       226        227       228        229  loco_maxcent  \\\n",
       "rfid                                                                           \n",
       "00077E61F3 -1.339633 -1.669866   1.930249 -0.369967  10.188985         171.3   \n",
       "00077E6207  4.556553 -2.546501  10.478027  4.803143   2.155855         115.4   \n",
       "00077E6232 -2.230633 -4.459790   3.744106 -1.721060  -4.232724          48.1   \n",
       "00077E6239 -1.183130  3.834784   2.807185 -0.567963  -1.476755         147.1   \n",
       "00077E62D2  1.916741 -9.818025  13.642586  6.387523 -12.712059          89.4   \n",
       "\n",
       "            loco_maxdis  loco_maxrear  loco_maxact  \n",
       "rfid                                                \n",
       "00077E61F3        568.0          19.0        109.0  \n",
       "00077E6207        697.0          26.0        135.0  \n",
       "00077E6232        652.0          20.0        124.0  \n",
       "00077E6239        466.0          25.0         97.0  \n",
       "00077E62D2        599.0          22.0         96.0  \n",
       "\n",
       "[5 rows x 234 columns]"
      ]
     },
     "execution_count": 30,
     "metadata": {},
     "output_type": "execute_result"
    }
   ],
   "source": [
    "print(geno_with_pheno.shape)\n",
    "geno_with_pheno.head()"
   ]
  },
  {
   "cell_type": "code",
   "execution_count": 31,
   "id": "5fbe5ea2-6472-47f1-a970-e994596bfeb5",
   "metadata": {},
   "outputs": [],
   "source": [
    "# Split the geno_with_pheno into X and y datasets\n",
    "\n",
    "phenos = ['loco_maxcent', 'loco_maxdis', 'loco_maxrear', 'loco_maxact']\n",
    "y_pheno = geno_with_pheno[phenos]\n",
    "y_pheno = y_pheno.to_numpy()\n",
    "\n",
    "X_geno = geno_with_pheno.drop(columns = phenos)\n",
    "X_geno = X_geno.to_numpy()"
   ]
  },
  {
   "cell_type": "code",
   "execution_count": 33,
   "id": "05a069b0-df61-445e-bf35-92f1495f0560",
   "metadata": {},
   "outputs": [
    {
     "name": "stdout",
     "output_type": "stream",
     "text": [
      "[[ 12.13237294 -27.87388605 -14.63647192 ...   1.93024852  -0.36996715\n",
      "   10.18898483]\n",
      " [ 24.1605559   -3.36057013 -16.10808058 ...  10.47802697   4.80314287\n",
      "    2.1558552 ]\n",
      " [ -6.94227425 -32.74105067   9.20982153 ...   3.74410579  -1.7210603\n",
      "   -4.23272375]\n",
      " [ 37.44748968  10.63826537  21.29167791 ...   2.80718509  -0.56796325\n",
      "   -1.47675537]\n",
      " [ 46.59783525  -1.25215659  14.85164131 ...  13.64258641   6.38752332\n",
      "  -12.71205882]]\n",
      "[[171.3 568.   19.  109. ]\n",
      " [115.4 697.   26.  135. ]\n",
      " [ 48.1 652.   20.  124. ]\n",
      " [147.1 466.   25.   97. ]\n",
      " [ 89.4 599.   22.   96. ]]\n"
     ]
    }
   ],
   "source": [
    "print(X_geno[:5])\n",
    "print(y_pheno[:5])"
   ]
  },
  {
   "cell_type": "markdown",
   "id": "2e945869-272b-44d6-9c33-80af2700475e",
   "metadata": {},
   "source": [
    "## Train and Test Random Forrest Model to Predict loco phenotypes from genotypes"
   ]
  },
  {
   "cell_type": "markdown",
   "id": "8917e6f4-9cb8-4c31-ad10-2fb9ce9c88d5",
   "metadata": {},
   "source": [
    "### Train Model"
   ]
  },
  {
   "cell_type": "code",
   "execution_count": 35,
   "id": "5d88047b-9e0f-49dd-8cd5-3b88ff1001e3",
   "metadata": {},
   "outputs": [],
   "source": [
    "X_train, X_test, y_train, y_test = train_test_split(X_geno, y_pheno, test_size=0.20, random_state=42)"
   ]
  },
  {
   "cell_type": "code",
   "execution_count": 36,
   "id": "46df34aa-9ea9-48e1-bb45-dd1ffe55b6c2",
   "metadata": {},
   "outputs": [
    {
     "data": {
      "text/plain": [
       "RandomForestRegressor(n_jobs=-1, random_state=42)"
      ]
     },
     "execution_count": 36,
     "metadata": {},
     "output_type": "execute_result"
    }
   ],
   "source": [
    "regr = RandomForestRegressor(n_jobs = -1, random_state = 42)\n",
    "regr.fit(X_train, y_train)"
   ]
  },
  {
   "cell_type": "markdown",
   "id": "f61cc001-58ca-4339-92cc-eb6180997a18",
   "metadata": {},
   "source": [
    "### Create Predictions from Train and Test"
   ]
  },
  {
   "cell_type": "code",
   "execution_count": 37,
   "id": "19773db6-91ca-47ee-9d3c-0620bd4d3897",
   "metadata": {},
   "outputs": [
    {
     "data": {
      "text/plain": [
       "array([[ 61.207, 628.01 ,  32.85 , 104.97 ],\n",
       "       [ 47.188, 705.82 ,  32.91 ,  99.99 ],\n",
       "       [ 52.488, 732.09 ,  38.72 ,  88.72 ],\n",
       "       [133.301, 620.91 ,  32.03 ,  92.86 ],\n",
       "       [ 42.676, 733.8  ,  35.51 ,  95.67 ]])"
      ]
     },
     "execution_count": 37,
     "metadata": {},
     "output_type": "execute_result"
    }
   ],
   "source": [
    "y_train_pred = regr.predict(X_train)\n",
    "y_train_pred[:5]"
   ]
  },
  {
   "cell_type": "code",
   "execution_count": 39,
   "id": "23002721-ebfc-4886-9f29-a3d3f6439399",
   "metadata": {},
   "outputs": [
    {
     "data": {
      "text/plain": [
       "array([[ 73.759, 622.74 ,  30.59 ,  89.72 ],\n",
       "       [ 66.577, 614.11 ,  31.13 ,  89.01 ],\n",
       "       [ 65.613, 608.94 ,  30.27 ,  89.51 ],\n",
       "       [ 71.465, 626.54 ,  31.54 ,  90.48 ],\n",
       "       [ 70.697, 620.41 ,  30.12 ,  91.01 ]])"
      ]
     },
     "execution_count": 39,
     "metadata": {},
     "output_type": "execute_result"
    }
   ],
   "source": [
    "y_test_pred = regr.predict(X_test)\n",
    "y_test_pred[:5]"
   ]
  },
  {
   "cell_type": "markdown",
   "id": "a8efae13-609f-4a21-8adf-5d3ab0060037",
   "metadata": {},
   "source": [
    "### Evaluate Performance of the Model"
   ]
  },
  {
   "cell_type": "markdown",
   "id": "9d54a27c-375f-4ad7-b15b-1779028c7601",
   "metadata": {},
   "source": [
    "(1) MAE on the training set"
   ]
  },
  {
   "cell_type": "code",
   "execution_count": 41,
   "id": "0acbd86b-0049-4511-a03c-0974da2703f1",
   "metadata": {},
   "outputs": [
    {
     "name": "stdout",
     "output_type": "stream",
     "text": [
      "[11.65828353 30.09721225  2.14914467  5.5874868 ]\n"
     ]
    }
   ],
   "source": [
    "print(mean_absolute_error(y_train, y_train_pred, multioutput='raw_values'))"
   ]
  },
  {
   "cell_type": "markdown",
   "id": "a68e7cbc-f698-4903-ab9a-4635f0739a5b",
   "metadata": {},
   "source": [
    "(2) MAE on the test set"
   ]
  },
  {
   "cell_type": "code",
   "execution_count": 42,
   "id": "73439aa9-4ad8-43ef-80d0-650359f6fd42",
   "metadata": {},
   "outputs": [
    {
     "name": "stdout",
     "output_type": "stream",
     "text": [
      "[33.61259705 84.64936709  5.46976793 14.64696203]\n"
     ]
    }
   ],
   "source": [
    "print(mean_absolute_error(y_test, y_test_pred, multioutput='raw_values'))"
   ]
  },
  {
   "cell_type": "markdown",
   "id": "5b6e36e1-79e4-498a-a5a1-a82a4d3d54b7",
   "metadata": {},
   "source": [
    "(3) MSE on the training set"
   ]
  },
  {
   "cell_type": "code",
   "execution_count": 43,
   "id": "210a6002-69d5-444f-a7f8-0c5ec50cf69f",
   "metadata": {},
   "outputs": [
    {
     "name": "stdout",
     "output_type": "stream",
     "text": [
      "[ 218.95067334 1471.96929155    7.48497149   50.50932841]\n"
     ]
    }
   ],
   "source": [
    "print(mean_squared_error(y_train, y_train_pred, multioutput='raw_values'))"
   ]
  },
  {
   "cell_type": "markdown",
   "id": "9f52231c-2b00-47ee-8d8d-ac964143009c",
   "metadata": {},
   "source": [
    "(4) MSE on the test set"
   ]
  },
  {
   "cell_type": "code",
   "execution_count": 44,
   "id": "cb374d06-f039-4690-b5e7-7a470a8e846d",
   "metadata": {},
   "outputs": [
    {
     "name": "stdout",
     "output_type": "stream",
     "text": [
      "[ 1802.66153938 11347.82035992    46.65766941   334.51584388]\n"
     ]
    }
   ],
   "source": [
    "print(mean_squared_error(y_test, y_test_pred, multioutput='raw_values'))"
   ]
  },
  {
   "cell_type": "markdown",
   "id": "687d989c-fffc-437c-bd0a-e44d3bab9ecf",
   "metadata": {},
   "source": [
    "(5) R2 Scores on training set"
   ]
  },
  {
   "cell_type": "code",
   "execution_count": 45,
   "id": "bb1a7b2f-2fb3-4aab-b7b8-e1cfc3e34086",
   "metadata": {},
   "outputs": [
    {
     "name": "stdout",
     "output_type": "stream",
     "text": [
      "[0.85837491 0.86298305 0.85766716 0.86150008]\n"
     ]
    }
   ],
   "source": [
    "print(r2_score(y_train, y_train_pred, multioutput = 'raw_values'))"
   ]
  },
  {
   "cell_type": "markdown",
   "id": "e31784d2-bcd9-4cce-8cb3-6b96ae454861",
   "metadata": {},
   "source": [
    "(6) R2 scores on test set"
   ]
  },
  {
   "cell_type": "code",
   "execution_count": 46,
   "id": "bceb1a3d-e1d0-47bc-959c-918d89ada76b",
   "metadata": {},
   "outputs": [
    {
     "name": "stdout",
     "output_type": "stream",
     "text": [
      "[-0.00217703  0.01287462 -0.01732371  0.01998775]\n"
     ]
    }
   ],
   "source": [
    "print(r2_score(y_test, y_test_pred, multioutput = 'raw_values'))"
   ]
  },
  {
   "cell_type": "markdown",
   "id": "a62b0589-173c-497f-b138-d707d3787557",
   "metadata": {},
   "source": [
    "## Train and Test Linear Regession Model to Predict loco phenotypes from genotypes"
   ]
  },
  {
   "cell_type": "markdown",
   "id": "05f91d18-1095-4e7f-ba11-efec14fb5d13",
   "metadata": {},
   "source": [
    "### Train"
   ]
  },
  {
   "cell_type": "code",
   "execution_count": 49,
   "id": "2c39795e-ee7e-4603-91fe-36209c7bb6f7",
   "metadata": {},
   "outputs": [],
   "source": [
    "reg = LinearRegression(n_jobs = -1).fit(X_train, y_train)"
   ]
  },
  {
   "cell_type": "code",
   "execution_count": 50,
   "id": "680ebbd4-190b-4703-9870-bd3e3351c00d",
   "metadata": {},
   "outputs": [
    {
     "data": {
      "text/plain": [
       "array([[ 77.02446998, 634.55461685,  32.27292208,  96.23084067],\n",
       "       [ 71.3899733 , 690.17829955,  32.44017978,  97.29991705],\n",
       "       [ 63.70563575, 659.63216348,  31.56017019,  91.18909365],\n",
       "       [ 94.38500214, 644.13875545,  36.52573319,  99.07705304],\n",
       "       [ 37.21233347, 739.85678578,  32.32098624,  93.87478719]])"
      ]
     },
     "execution_count": 50,
     "metadata": {},
     "output_type": "execute_result"
    }
   ],
   "source": [
    "y_train_pred = reg.predict(X_train)\n",
    "y_train_pred[:5]"
   ]
  },
  {
   "cell_type": "code",
   "execution_count": 51,
   "id": "1598a77a-60a8-4d31-8a9d-9c87bdb28272",
   "metadata": {},
   "outputs": [
    {
     "data": {
      "text/plain": [
       "array([[ 79.28846957, 640.14014722,  33.38259325,  84.40187856],\n",
       "       [ 61.85934165, 600.71578966,  30.36547851,  89.45831308],\n",
       "       [ 78.94165537, 605.78865075,  25.32390345,  96.35555927],\n",
       "       [ 79.8104754 , 610.02809602,  32.24912475,  86.0270392 ],\n",
       "       [ 75.57745524, 564.95952982,  31.3779924 ,  94.17122312]])"
      ]
     },
     "execution_count": 51,
     "metadata": {},
     "output_type": "execute_result"
    }
   ],
   "source": [
    "y_test_pred = reg.predict(X_test)\n",
    "y_test_pred[:5]"
   ]
  },
  {
   "cell_type": "code",
   "execution_count": 53,
   "id": "dba67021-30be-44b1-adeb-bf21cebbf3da",
   "metadata": {},
   "outputs": [
    {
     "name": "stdout",
     "output_type": "stream",
     "text": [
      "MAE Train: [28.36016736 72.01321446  5.22939301 13.55840803]\n",
      "MAE Test: [34.37543513 84.83794233  5.60771477 15.48963802]\n",
      "MSE Train: [1305.60057129 8215.95806867   43.50531684  290.76037606]\n",
      "MSE Test: [ 1954.10209088 11559.204642      50.82466153   362.93474862]\n",
      "R2 Train: [0.15549106 0.23522484 0.17271093 0.20271583]\n",
      "R2 Test: [-0.08636934 -0.0055133  -0.10818079 -0.06326952]\n"
     ]
    }
   ],
   "source": [
    "print(\"MAE Train:\", mean_absolute_error(y_train, y_train_pred, multioutput='raw_values'))\n",
    "print(\"MAE Test:\", mean_absolute_error(y_test, y_test_pred, multioutput='raw_values'))\n",
    "print(\"MSE Train:\", mean_squared_error(y_train, y_train_pred, multioutput='raw_values'))\n",
    "print(\"MSE Test:\", mean_squared_error(y_test, y_test_pred, multioutput='raw_values'))\n",
    "print(\"R2 Train:\", r2_score(y_train, y_train_pred, multioutput = 'raw_values'))\n",
    "print(\"R2 Test:\", r2_score(y_test, y_test_pred, multioutput = 'raw_values'))"
   ]
  },
  {
   "cell_type": "markdown",
   "id": "165aa330-8da1-4b99-a478-628126535d03",
   "metadata": {},
   "source": [
    "### Overall, both of the models suck. Random Forrest went berserk with overfitting and linear regression didn't learn shit."
   ]
  },
  {
   "cell_type": "code",
   "execution_count": null,
   "id": "374739f8-03a1-47d3-9644-5885e11f078d",
   "metadata": {},
   "outputs": [],
   "source": []
  }
 ],
 "metadata": {
  "kernelspec": {
   "display_name": "Python 3",
   "language": "python",
   "name": "python3"
  },
  "language_info": {
   "codemirror_mode": {
    "name": "ipython",
    "version": 3
   },
   "file_extension": ".py",
   "mimetype": "text/x-python",
   "name": "python",
   "nbconvert_exporter": "python",
   "pygments_lexer": "ipython3",
   "version": "3.8.8"
  }
 },
 "nbformat": 4,
 "nbformat_minor": 5
}
