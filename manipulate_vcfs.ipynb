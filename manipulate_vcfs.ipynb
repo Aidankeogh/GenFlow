{
 "cells": [
  {
   "cell_type": "code",
   "execution_count": 1,
   "id": "9019ad57-4d63-483f-b67b-e63845f01cd4",
   "metadata": {},
   "outputs": [
    {
     "ename": "ModuleNotFoundError",
     "evalue": "No module named 'torch'",
     "output_type": "error",
     "traceback": [
      "\u001b[0;31m---------------------------------------------------------------------------\u001b[0m",
      "\u001b[0;31mModuleNotFoundError\u001b[0m                       Traceback (most recent call last)",
      "Cell \u001b[0;32mIn[1], line 1\u001b[0m\n\u001b[0;32m----> 1\u001b[0m \u001b[38;5;28;01mimport\u001b[39;00m \u001b[38;5;21;01mtorch\u001b[39;00m\n\u001b[1;32m      2\u001b[0m \u001b[38;5;28;01mimport\u001b[39;00m \u001b[38;5;21;01mpandas\u001b[39;00m\n",
      "\u001b[0;31mModuleNotFoundError\u001b[0m: No module named 'torch'"
     ]
    }
   ],
   "source": [
    "import torch\n",
    "import pandas"
   ]
  },
  {
   "cell_type": "code",
   "execution_count": 8,
   "id": "bb264a73-7049-4edb-b2f3-db5aa6cb8616",
   "metadata": {},
   "outputs": [
    {
     "name": "stdout",
     "output_type": "stream",
     "text": [
      "Defaulting to user installation because normal site-packages is not writeable\n",
      "Requirement already satisfied: h5py in /narrows-trials/aidan/.local/lib/python3.9/site-packages (3.8.0)\n",
      "Requirement already satisfied: numpy>=1.14.5 in /narrows-trials/aidan/.local/lib/python3.9/site-packages (from h5py) (1.24.1)\n",
      "\n",
      "\u001b[1m[\u001b[0m\u001b[34;49mnotice\u001b[0m\u001b[1;39;49m]\u001b[0m\u001b[39;49m A new release of pip available: \u001b[0m\u001b[31;49m22.3.1\u001b[0m\u001b[39;49m -> \u001b[0m\u001b[32;49m23.0\u001b[0m\n",
      "\u001b[1m[\u001b[0m\u001b[34;49mnotice\u001b[0m\u001b[1;39;49m]\u001b[0m\u001b[39;49m To update, run: \u001b[0m\u001b[32;49mpip install --upgrade pip\u001b[0m\n"
     ]
    }
   ],
   "source": [
    "!pip install h5py"
   ]
  },
  {
   "cell_type": "code",
   "execution_count": 59,
   "id": "3d441ca9-d560-4aed-bda2-d6d7c3a5e0b9",
   "metadata": {},
   "outputs": [],
   "source": [
    "import h5py\n",
    "import allel"
   ]
  },
  {
   "cell_type": "code",
   "execution_count": 3,
   "id": "65b94f57-a207-44c3-ac16-2e6933adc5be",
   "metadata": {},
   "outputs": [],
   "source": [
    "src_file = \"/tmp/capstone/Heterogenous-stock_n14780_10182022_QC_Sex_Het_pass_n13526.vcf.gz\"\n",
    "allel.vcf_to_hdf5(src_file, \"/tmp/capstone/ratgenes.h5\", fields='*')"
   ]
  },
  {
   "cell_type": "code",
   "execution_count": 60,
   "id": "4915972a-8b8b-4e19-a45a-03b23ceccb8f",
   "metadata": {},
   "outputs": [],
   "source": [
    "\n",
    "ratset = h5py.File(\"/tmp/capstone/ratgenes.h5\", mode='r')"
   ]
  },
  {
   "cell_type": "code",
   "execution_count": 63,
   "id": "90f842c8-b26b-45be-ba96-80c1813842b4",
   "metadata": {},
   "outputs": [
    {
     "name": "stdout",
     "output_type": "stream",
     "text": [
      "<HDF5 dataset \"AC\": shape (6533840, 3), type \"<i4\">\n",
      "<HDF5 dataset \"ALT\": shape (6533840, 3), type \"|O\">\n",
      "<HDF5 dataset \"AN\": shape (6533840,), type \"<i4\">\n",
      "<HDF5 dataset \"CHROM\": shape (6533840,), type \"|O\">\n",
      "<HDF5 dataset \"EAC\": shape (6533840,), type \"<f4\">\n",
      "<HDF5 dataset \"EAF\": shape (6533840,), type \"<f4\">\n",
      "<HDF5 dataset \"ERC\": shape (6533840,), type \"<f4\">\n",
      "<HDF5 dataset \"FILTER_PASS\": shape (6533840,), type \"|b1\">\n",
      "<HDF5 dataset \"HWE\": shape (6533840,), type \"<f4\">\n",
      "<HDF5 dataset \"ID\": shape (6533840,), type \"|O\">\n",
      "<HDF5 dataset \"INFO_SCORE\": shape (6533840,), type \"<f4\">\n",
      "<HDF5 dataset \"PAF\": shape (6533840,), type \"<f4\">\n",
      "<HDF5 dataset \"POS\": shape (6533840,), type \"<i4\">\n",
      "<HDF5 dataset \"QUAL\": shape (6533840,), type \"<f4\">\n",
      "<HDF5 dataset \"REF\": shape (6533840,), type \"|O\">\n",
      "<HDF5 dataset \"REF_PANEL\": shape (6533840,), type \"<i4\">\n",
      "<HDF5 dataset \"altlen\": shape (6533840, 3), type \"<i4\">\n",
      "<HDF5 dataset \"is_snp\": shape (6533840,), type \"|b1\">\n",
      "<HDF5 dataset \"numalt\": shape (6533840,), type \"<i4\">\n"
     ]
    }
   ],
   "source": [
    "ratset['variants'].keys()\n",
    "for key in ratset['variants'].keys():\n",
    "    print(ratset['variants'][key])"
   ]
  },
  {
   "cell_type": "code",
   "execution_count": 67,
   "id": "a8fa59c0-9c65-43eb-b43f-f77c98cbe24c",
   "metadata": {},
   "outputs": [
    {
     "name": "stdout",
     "output_type": "stream",
     "text": [
      "[[b'T' b'' b'']\n",
      " [b'A' b'' b'']\n",
      " [b'A' b'' b'']\n",
      " [b'T' b'' b'']\n",
      " [b'C' b'' b'']\n",
      " [b'G' b'' b'']\n",
      " [b'G' b'' b'']\n",
      " [b'C' b'' b'']\n",
      " [b'C' b'' b'']\n",
      " [b'C' b'' b'']]\n"
     ]
    }
   ],
   "source": [
    "print(ratset['variants']['ALT'][:10])"
   ]
  },
  {
   "cell_type": "code",
   "execution_count": 68,
   "id": "d1e74a23-819d-48b6-ab33-0a87d0892d39",
   "metadata": {},
   "outputs": [
    {
     "data": {
      "text/plain": [
       "<KeysViewHDF5 ['DS', 'GP', 'GT']>"
      ]
     },
     "execution_count": 68,
     "metadata": {},
     "output_type": "execute_result"
    }
   ],
   "source": [
    "ratset['calldata'].keys()"
   ]
  },
  {
   "cell_type": "code",
   "execution_count": 44,
   "id": "eaffe469-8d6a-4960-935c-f9534a15c4e0",
   "metadata": {},
   "outputs": [
    {
     "data": {
      "text/plain": [
       "<KeysViewHDF5 ['calldata', 'samples', 'variants']>"
      ]
     },
     "execution_count": 44,
     "metadata": {},
     "output_type": "execute_result"
    }
   ],
   "source": [
    "ratset.keys()"
   ]
  },
  {
   "cell_type": "code",
   "execution_count": 45,
   "id": "23547a49-c1d4-49c1-95bf-65a3ad55f07a",
   "metadata": {},
   "outputs": [
    {
     "data": {
      "text/plain": [
       "<HDF5 dataset \"samples\": shape (13526,), type \"|O\">"
      ]
     },
     "execution_count": 45,
     "metadata": {},
     "output_type": "execute_result"
    }
   ],
   "source": [
    "ratset['samples']"
   ]
  },
  {
   "cell_type": "code",
   "execution_count": 48,
   "id": "f0f40ada-5f3c-4933-a998-a4e8980432d1",
   "metadata": {},
   "outputs": [
    {
     "data": {
      "text/plain": [
       "(<KeysViewHDF5 ['AC', 'ALT', 'AN', 'CHROM', 'EAC', 'EAF', 'ERC', 'FILTER_PASS', 'HWE', 'ID', 'INFO_SCORE', 'PAF', 'POS', 'QUAL', 'REF', 'REF_PANEL', 'altlen', 'is_snp', 'numalt']>,\n",
       " <HDF5 dataset \"CHROM\": shape (6533840,), type \"|O\">)"
      ]
     },
     "execution_count": 48,
     "metadata": {},
     "output_type": "execute_result"
    }
   ],
   "source": [
    "ratset['variants'].keys(), ratset['variants']['CHROM']"
   ]
  },
  {
   "cell_type": "code",
   "execution_count": 52,
   "id": "58d14062-ba6b-40d4-9d9b-5b4712946fc3",
   "metadata": {},
   "outputs": [
    {
     "data": {
      "text/plain": [
       "(<KeysViewHDF5 ['DS', 'GP', 'GT']>,\n",
       " <HDF5 dataset \"GT\": shape (6533840, 13526, 2), type \"|i1\">)"
      ]
     },
     "execution_count": 52,
     "metadata": {},
     "output_type": "execute_result"
    }
   ],
   "source": [
    "ratset['calldata'].keys(), ratset['calldata']['GT']"
   ]
  },
  {
   "cell_type": "code",
   "execution_count": 55,
   "id": "d3dc0651-5dfe-4319-8fd1-a480e5074750",
   "metadata": {},
   "outputs": [
    {
     "data": {
      "text/plain": [
       "dtype('int8')"
      ]
     },
     "execution_count": 55,
     "metadata": {},
     "output_type": "execute_result"
    }
   ],
   "source": [
    "ratset['calldata']['GT'][:10, :10].dtype"
   ]
  },
  {
   "cell_type": "code",
   "execution_count": 58,
   "id": "08d3c082-f256-4721-bdfa-094c82ee149e",
   "metadata": {},
   "outputs": [
    {
     "data": {
      "text/plain": [
       "array([[9.000e-03, 1.100e-02, 9.990e-01, 1.000e-02, 1.000e-02, 1.100e-02,\n",
       "        1.100e-02, 1.100e-02, 1.200e-02, 9.980e-01],\n",
       "       [2.000e-03, 2.000e-03, 1.001e+00, 1.000e-03, 1.000e-03, 2.000e-03,\n",
       "        2.000e-03, 2.000e-03, 3.000e-03, 1.000e+00],\n",
       "       [3.000e-03, 4.000e-03, 9.620e-01, 3.000e-03, 3.000e-03, 6.000e-03,\n",
       "        6.000e-03, 1.000e-03, 6.000e-03, 9.640e-01],\n",
       "       [2.000e-03, 2.000e-03, 9.630e-01, 2.000e-03, 2.000e-03, 3.000e-03,\n",
       "        3.000e-03, 1.000e-03, 3.000e-03, 9.640e-01],\n",
       "       [1.300e-02, 7.000e-03, 9.680e-01, 1.300e-02, 1.200e-02, 8.000e-03,\n",
       "        9.000e-03, 4.000e-03, 7.000e-03, 9.700e-01],\n",
       "       [2.000e-03, 2.000e-03, 9.960e-01, 2.000e-03, 2.000e-03, 3.000e-03,\n",
       "        2.000e-03, 1.000e-03, 3.000e-03, 9.960e-01],\n",
       "       [1.000e-03, 1.000e-03, 9.990e-01, 0.000e+00, 0.000e+00, 1.000e-03,\n",
       "        1.000e-03, 2.000e-03, 1.000e-03, 9.980e-01],\n",
       "       [3.000e-03, 4.000e-03, 1.001e+00, 3.000e-03, 3.000e-03, 3.000e-03,\n",
       "        3.000e-03, 2.000e-03, 4.000e-03, 1.001e+00],\n",
       "       [1.000e-03, 1.000e-03, 1.000e+00, 1.000e-03, 1.000e-03, 1.000e-03,\n",
       "        1.000e-03, 3.000e-03, 1.000e-03, 9.990e-01],\n",
       "       [5.000e-03, 3.000e-03, 1.003e+00, 5.000e-03, 5.000e-03, 2.000e-03,\n",
       "        3.000e-03, 5.000e-03, 3.000e-03, 1.001e+00]], dtype=float32)"
      ]
     },
     "execution_count": 58,
     "metadata": {},
     "output_type": "execute_result"
    }
   ],
   "source": [
    "ratset['calldata']['DS'][:10, :10]"
   ]
  },
  {
   "cell_type": "code",
   "execution_count": null,
   "id": "87620fe0-71ca-4e52-be3f-78841c007f86",
   "metadata": {},
   "outputs": [],
   "source": []
  }
 ],
 "metadata": {
  "kernelspec": {
   "display_name": "Python 3 (ipykernel)",
   "language": "python",
   "name": "python3"
  },
  "language_info": {
   "codemirror_mode": {
    "name": "ipython",
    "version": 3
   },
   "file_extension": ".py",
   "mimetype": "text/x-python",
   "name": "python",
   "nbconvert_exporter": "python",
   "pygments_lexer": "ipython3",
   "version": "3.9.9"
  }
 },
 "nbformat": 4,
 "nbformat_minor": 5
}
