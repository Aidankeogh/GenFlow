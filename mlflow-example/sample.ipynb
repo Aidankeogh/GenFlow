{
 "cells": [
  {
   "cell_type": "code",
   "execution_count": 1,
   "id": "2e33278e-b4b7-44ed-aff2-74921cb59a57",
   "metadata": {},
   "outputs": [
    {
     "name": "stderr",
     "output_type": "stream",
     "text": [
      "/Users/leonardoclo/opt/anaconda3/lib/python3.8/site-packages/_distutils_hack/__init__.py:33: UserWarning: Setuptools is replacing distutils.\n",
      "  warnings.warn(\"Setuptools is replacing distutils.\")\n",
      "2023/04/09 20:31:39 INFO mlflow.models.evaluation.base: Evaluating the model with the default evaluator.\n",
      "2023/04/09 20:31:39 INFO mlflow.models.evaluation.default_evaluator: The evaluation dataset is inferred as multiclass dataset, number of classes is inferred as 3\n",
      "2023/04/09 20:31:41 INFO mlflow.models.evaluation.default_evaluator: Shap explainer Exact is used.\n",
      "Unable to serialize underlying model using MLflow, will use SHAP serialization\n",
      "No data for colormapping provided via 'c'. Parameters 'vmin', 'vmax' will be ignored\n",
      "No data for colormapping provided via 'c'. Parameters 'vmin', 'vmax' will be ignored\n"
     ]
    }
   ],
   "source": [
    "import pandas as pd\n",
    "from sklearn.datasets import load_iris\n",
    "from sklearn.ensemble import RandomForestClassifier\n",
    "from sklearn.metrics import accuracy_score\n",
    "from sklearn.model_selection import train_test_split\n",
    "import mlflow\n",
    "\n",
    "\n",
    "iris = load_iris()\n",
    "df = pd.DataFrame(data=iris.data, columns=iris.feature_names)\n",
    "df['target'] = iris.target\n",
    "df.to_csv('iris_data.csv')\n",
    "\n",
    "X_train, X_test, y_train, y_test = train_test_split(df[iris.feature_names], iris.target, test_size=0.2, random_state=42)\n",
    "\n",
    "\n",
    "rf = RandomForestClassifier(n_estimators=100, random_state=42)\n",
    "rf.fit(X_train, y_train)\n",
    "\n",
    "y_pred = rf.predict(X_test)\n",
    "accuracy = accuracy_score(y_test, y_pred)\n",
    "\n",
    "eval_data = X_test\n",
    "eval_data['label'] = y_test\n",
    "\n",
    "# Log the experiment using MLflow\n",
    "run_name = 'iris_experiment'\n",
    "with mlflow.start_run(run_name=run_name):\n",
    "\n",
    "    mlflow.sklearn.log_model(rf, 'iris_model')\n",
    "    model_uri = mlflow.get_artifact_uri('iris_model')\n",
    "    \n",
    "    result = mlflow.evaluate(\n",
    "        model_uri,\n",
    "        eval_data,\n",
    "        targets=\"label\",\n",
    "        model_type=\"classifier\",\n",
    "        evaluators=[\"default\"],\n",
    "    )\n",
    "\n",
    "    "
   ]
  },
  {
   "cell_type": "code",
   "execution_count": 6,
   "id": "bdbb9f80-e7fe-4518-80a2-00adab3112c6",
   "metadata": {},
   "outputs": [],
   "source": []
  },
  {
   "cell_type": "code",
   "execution_count": null,
   "id": "9114e0d8-9283-430a-a9cf-b84b7a45cf55",
   "metadata": {},
   "outputs": [],
   "source": []
  }
 ],
 "metadata": {
  "kernelspec": {
   "display_name": "Python 3",
   "language": "python",
   "name": "python3"
  },
  "language_info": {
   "codemirror_mode": {
    "name": "ipython",
    "version": 3
   },
   "file_extension": ".py",
   "mimetype": "text/x-python",
   "name": "python",
   "nbconvert_exporter": "python",
   "pygments_lexer": "ipython3",
   "version": "3.8.8"
  }
 },
 "nbformat": 4,
 "nbformat_minor": 5
}
