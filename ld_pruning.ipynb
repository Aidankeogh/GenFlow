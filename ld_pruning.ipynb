{
 "cells": [
  {
   "cell_type": "markdown",
   "id": "bb002406-9f23-4eb7-80f7-aa1cb3952688",
   "metadata": {
    "tags": []
   },
   "source": [
    "LD Docs https://www.cog-genomics.org/plink/1.9/ld"
   ]
  },
  {
   "cell_type": "code",
   "execution_count": 11,
   "id": "e4e6227b-cf05-412f-8ddc-5d3be6aeb6b4",
   "metadata": {},
   "outputs": [],
   "source": [
    "import time\n",
    "plink = \"/cm/shared/apps/plink/1.90-beta7/bin/plink\"\n",
    "ratgenes_master = \"/projects/ps-palmer/hs_rats/round9_1/Heterogenous-stock_n14780_10182022_QC_Sex_Het_pass_n13526.vcf.gz\"\n",
    "ratgenes = \"/scratch/capstone/Heterogenous-stock_n14780_10182022_QC_Sex_Het_pass_n13526.vcf.gz\""
   ]
  },
  {
   "cell_type": "code",
   "execution_count": 2,
   "id": "ea957f56-ad15-431f-bca3-d8cc122a08a6",
   "metadata": {},
   "outputs": [
    {
     "name": "stdout",
     "output_type": "stream",
     "text": [
      "-175.34983205795288\n"
     ]
    }
   ],
   "source": [
    "# Copy file over (if necessary)\n",
    "\n",
    "tic = time.time()\n",
    "! cp {ratgenes_master} {ratgenes}\n",
    "toc = time.time()\n",
    "print(tic-toc)"
   ]
  },
  {
   "cell_type": "code",
   "execution_count": 13,
   "id": "e0708abe-84bf-4f22-a0fd-94f355de8e67",
   "metadata": {},
   "outputs": [
    {
     "name": "stdout",
     "output_type": "stream",
     "text": [
      "PLINK v1.90b7 64-bit (16 Jan 2023)             www.cog-genomics.org/plink/1.9/\n",
      "(C) 2005-2023 Shaun Purcell, Christopher Chang   GNU General Public License v3\n",
      "Logging to /scratch/capstone/ratgenes_unpruned.log.\n",
      "Options in effect:\n",
      "  --make-bed\n",
      "  --out /scratch/capstone/ratgenes_unpruned\n",
      "  --vcf /scratch/capstone/Heterogenous-stock_n14780_10182022_QC_Sex_Het_pass_n13526.vcf.gz\n",
      "\n",
      "95274 MB RAM detected; reserving 47637 MB for main workspace.\n",
      "--vcf: /scratch/capstone/ratgenes_unpruned-temporary.bed +\n",
      "/scratch/capstone/ratgenes_unpruned-temporary.bim +\n",
      "/scratch/capstone/ratgenes_unpruned-temporary.fam written.\n",
      "6533840 variants loaded from .bim file.\n",
      "13526 people (0 males, 0 females, 13526 ambiguous) loaded from .fam.\n",
      "Ambiguous sex IDs written to /scratch/capstone/ratgenes_unpruned.nosex .\n",
      "Using 1 thread (no multithreaded calculations invoked).\n",
      "Before main variant filters, 13526 founders and 0 nonfounders present.\n",
      "Calculating allele frequencies... 10111213141516171819202122232425262728293031323334353637383940414243444546474849505152535455565758596061626364656667686970717273747576777879808182838485868788899091929394959697989 done.\n",
      "Total genotyping rate is 0.993011.\n",
      "6533840 variants and 13526 people pass filters and QC.\n",
      "Note: No phenotypes present.\n",
      "--make-bed to /scratch/capstone/ratgenes_unpruned.bed +\n",
      "/scratch/capstone/ratgenes_unpruned.bim +\n",
      "/scratch/capstone/ratgenes_unpruned.fam ... 101011111212131314151516161717181819202021212222232324252526262727282829303031313232333334353536363737383839404041414242434344454546464747484849505051515252535354555556565757585859606061616262636364656566666767686869707071717272737374757576767777787879808081818282838384858586868787888889909091919292939394959596969797989899done.\n",
      "-3482.1666564941406\n"
     ]
    }
   ],
   "source": [
    "# Create BED files\n",
    "bfile_no_id = \"/scratch/capstone/ratgenes_unpruned\"\n",
    "\n",
    "tic = time.time()\n",
    "! {plink} --vcf {ratgenes} --make-bed --out {bfile_no_id}\n",
    "toc = time.time()\n",
    "print(tic-toc)"
   ]
  },
  {
   "cell_type": "code",
   "execution_count": 24,
   "id": "89e26f42-28e3-4b2d-b125-1d8f66723e40",
   "metadata": {},
   "outputs": [
    {
     "name": "stdout",
     "output_type": "stream",
     "text": [
      "PLINK v1.90b7 64-bit (16 Jan 2023)             www.cog-genomics.org/plink/1.9/\n",
      "(C) 2005-2023 Shaun Purcell, Christopher Chang   GNU General Public License v3\n",
      "Logging to /scratch/capstone/ratgenes_unpruned_id.log.\n",
      "Options in effect:\n",
      "  --bfile /scratch/capstone/ratgenes_unpruned\n",
      "  --make-bed\n",
      "  --out /scratch/capstone/ratgenes_unpruned_id\n",
      "  --set-missing-var-ids @:#$1,$2\n",
      "\n",
      "95274 MB RAM detected; reserving 47637 MB for main workspace.\n",
      "6533840 variants loaded from .bim file.\n",
      "6533840 missing IDs set.\n",
      "13526 people (0 males, 0 females, 13526 ambiguous) loaded from .fam.\n",
      "Ambiguous sex IDs written to /scratch/capstone/ratgenes_unpruned_id.nosex .\n",
      "Using 1 thread (no multithreaded calculations invoked).\n",
      "Before main variant filters, 13526 founders and 0 nonfounders present.\n",
      "Calculating allele frequencies... 10111213141516171819202122232425262728293031323334353637383940414243444546474849505152535455565758596061626364656667686970717273747576777879808182838485868788899091929394959697989 done.\n",
      "Total genotyping rate is 0.993011.\n",
      "6533840 variants and 13526 people pass filters and QC.\n",
      "Note: No phenotypes present.\n",
      "--make-bed to /scratch/capstone/ratgenes_unpruned_id.bed +\n",
      "/scratch/capstone/ratgenes_unpruned_id.bim +\n",
      "/scratch/capstone/ratgenes_unpruned_id.fam ... 101112131415161718192021222324252627282930313233343536373839404142434445464748495051525354555657585960616263646566676869707172737475767778798081828384858687888990919293949596979899done.\n",
      "-32.27164006233215\n"
     ]
    }
   ],
   "source": [
    "# Assign variant IDs\n",
    "bfile = \"/scratch/capstone/ratgenes_unpruned_id\"\n",
    "id_string = \"@:#\\$1,\\$2\"\n",
    "\n",
    "tic = time.time()\n",
    "! {plink} --bfile {bfile_no_id} --set-missing-var-ids {id_string} --make-bed --out {bfile} \n",
    "toc = time.time()\n",
    "print(tic-toc)"
   ]
  },
  {
   "cell_type": "code",
   "execution_count": 25,
   "id": "c7a235f7-1235-43fa-bb90-40112bf035b9",
   "metadata": {},
   "outputs": [
    {
     "name": "stdout",
     "output_type": "stream",
     "text": [
      "PLINK v1.90b7 64-bit (16 Jan 2023)             www.cog-genomics.org/plink/1.9/\n",
      "(C) 2005-2023 Shaun Purcell, Christopher Chang   GNU General Public License v3\n",
      "Logging to /scratch/capstone/ld50_5_0.05.log.\n",
      "Options in effect:\n",
      "  --allow-no-sex\n",
      "  --bfile /scratch/capstone/ratgenes_unpruned_id\n",
      "  --indep-pairwise 50 5 0.05\n",
      "  --out /scratch/capstone/ld50_5_0.05\n",
      "\n",
      "95274 MB RAM detected; reserving 47637 MB for main workspace.\n",
      "6533840 variants loaded from .bim file.\n",
      "13526 people (0 males, 0 females, 13526 ambiguous) loaded from .fam.\n",
      "Ambiguous sex IDs written to /scratch/capstone/ld50_5_0.05.nosex .\n",
      "Using 1 thread (no multithreaded calculations invoked).\n",
      "Before main variant filters, 13526 founders and 0 nonfounders present.\n",
      "Calculating allele frequencies... 10111213141516171819202122232425262728293031323334353637383940414243444546474849505152535455565758596061626364656667686970717273747576777879808182838485868788899091929394959697989 done.\n",
      "Total genotyping rate is 0.993011.\n",
      "6533840 variants and 13526 people pass filters and QC.\n",
      "Note: No phenotypes present.\n",
      "Pruned 616568 variants from chromosome 1, leaving 9274.\n",
      "Pruned 705051 variants from chromosome 2, leaving 11287.\n",
      "Pruned 395361 variants from chromosome 3, leaving 5840.\n",
      "Pruned 424213 variants from chromosome 4, leaving 6148.\n",
      "Pruned 469300 variants from chromosome 5, leaving 7806.\n",
      "Pruned 339230 variants from chromosome 6, leaving 4786.\n",
      "Pruned 348967 variants from chromosome 7, leaving 5494.\n",
      "Pruned 308408 variants from chromosome 8, leaving 4774.\n",
      "Pruned 290750 variants from chromosome 9, leaving 4050.\n",
      "Pruned 257697 variants from chromosome 10, leaving 3973.\n",
      "Pruned 212968 variants from chromosome 11, leaving 2731.\n",
      "Pruned 115168 variants from chromosome 12, leaving 1618.\n",
      "Pruned 332654 variants from chromosome 13, leaving 4840.\n",
      "Pruned 288026 variants from chromosome 14, leaving 4302.\n",
      "Pruned 247056 variants from chromosome 15, leaving 3142.\n",
      "Pruned 241950 variants from chromosome 16, leaving 3984.\n",
      "Pruned 205047 variants from chromosome 17, leaving 2778.\n",
      "Pruned 199516 variants from chromosome 18, leaving 3179.\n",
      "Pruned 127153 variants from chromosome 19, leaving 1731.\n",
      "Pruned 172757 variants from chromosome 20, leaving 2557.\n",
      "Pruned 139346 variants from chromosome 23, leaving 2360.\n",
      "Pruning complete.  6437186 of 6533840 variants removed.\n",
      "Marker lists written to /scratch/capstone/ld50_5_0.05.prune.in and\n",
      "/scratch/capstone/ld50_5_0.05.prune.out .\n",
      "-41.17524862289429\n",
      "1:1641640A,G\n",
      "1:1658435A,G\n",
      "1:1679677A,T\n",
      "1:1716148C,T\n",
      "1:1791980C,T\n",
      "1:1967861A,G\n",
      "1:1968853A,G\n",
      "1:1987842C,T\n",
      "1:2018066A,G\n",
      "1:2100069C,T\n"
     ]
    }
   ],
   "source": [
    "# Do LD pruning\n",
    "window_size = 50\n",
    "step_size = 5\n",
    "r2_threshold = 0.05\n",
    "prunefile = f\"/scratch/capstone/ld{window_size}_{step_size}_{r2_threshold}\"\n",
    "\n",
    "tic = time.time()\n",
    "! {plink} --bfile {bfile} --indep-pairwise {window_size} {step_size} {r2_threshold} --allow-no-sex --out {prunefile}\n",
    "toc = time.time()\n",
    "print(tic-toc)\n",
    "! head {prunefile}.prune.in"
   ]
  },
  {
   "cell_type": "code",
   "execution_count": 26,
   "id": "d6aa7a3f-4552-4e6a-a672-1e9f7bf4d15e",
   "metadata": {},
   "outputs": [
    {
     "name": "stdout",
     "output_type": "stream",
     "text": [
      "PLINK v1.90b7 64-bit (16 Jan 2023)             www.cog-genomics.org/plink/1.9/\n",
      "(C) 2005-2023 Shaun Purcell, Christopher Chang   GNU General Public License v3\n",
      "Logging to /scratch/capstone/ratgenes_pruned.log.\n",
      "Options in effect:\n",
      "  --bfile /scratch/capstone/ratgenes_unpruned_id\n",
      "  --extract /scratch/capstone/ld50_5_0.05.prune.in\n",
      "  --make-bed\n",
      "  --out /scratch/capstone/ratgenes_pruned\n",
      "\n",
      "95274 MB RAM detected; reserving 47637 MB for main workspace.\n",
      "6533840 variants loaded from .bim file.\n",
      "13526 people (0 males, 0 females, 13526 ambiguous) loaded from .fam.\n",
      "Ambiguous sex IDs written to /scratch/capstone/ratgenes_pruned.nosex .\n",
      "--extract: 96654 variants remaining.\n",
      "Using 1 thread (no multithreaded calculations invoked).\n",
      "Before main variant filters, 13526 founders and 0 nonfounders present.\n",
      "Calculating allele frequencies... 10111213141516171819202122232425262728293031323334353637383940414243444546474849505152535455565758596061626364656667686970717273747576777879808182838485868788899091929394959697989 done.\n",
      "Total genotyping rate is 0.988763.\n",
      "96654 variants and 13526 people pass filters and QC.\n",
      "Note: No phenotypes present.\n",
      "--make-bed to /scratch/capstone/ratgenes_pruned.bed +\n",
      "/scratch/capstone/ratgenes_pruned.bim + /scratch/capstone/ratgenes_pruned.fam\n",
      "... 101112131415161718192021222324252627282930313233343536373839404142434445464748495051525354555657585960616263646566676869707172737475767778798081828384858687888990919293949596979899done.\n",
      "-4.236278772354126\n"
     ]
    }
   ],
   "source": [
    "# Extract pruned variants\n",
    "final_file = \"/scratch/capstone/ratgenes_pruned\"\n",
    "\n",
    "tic = time.time()\n",
    "! {plink} --bfile {bfile} --extract {prunefile}.prune.in --make-bed --out {final_file}\n",
    "toc = time.time()\n",
    "print(tic-toc)"
   ]
  },
  {
   "cell_type": "code",
   "execution_count": null,
   "id": "b7e372e0-b3e5-4c75-95fd-b7dc7bf69eff",
   "metadata": {},
   "outputs": [],
   "source": []
  }
 ],
 "metadata": {
  "kernelspec": {
   "display_name": "Python 3 (ipykernel)",
   "language": "python",
   "name": "python3"
  },
  "language_info": {
   "codemirror_mode": {
    "name": "ipython",
    "version": 3
   },
   "file_extension": ".py",
   "mimetype": "text/x-python",
   "name": "python",
   "nbconvert_exporter": "python",
   "pygments_lexer": "ipython3",
   "version": "3.10.4"
  }
 },
 "nbformat": 4,
 "nbformat_minor": 5
}
